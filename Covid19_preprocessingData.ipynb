{
 "cells": [
  {
   "cell_type": "code",
   "execution_count": 1,
   "metadata": {},
   "outputs": [],
   "source": [
    "import pandas as pd\n",
    "import numpy as np\n",
    "import statsmodels as sm\n",
    "import matplotlib.pyplot as plt\n",
    "from sklearn.linear_model import LinearRegression\n",
    "import seaborn as sns\n",
    "sns.set()\n",
    "\n",
    "pd.set_option('display.max_rows', 20)\n",
    "pd.options.display.float_format = '{:.3f}'.format"
   ]
  },
  {
   "cell_type": "code",
   "execution_count": 2,
   "metadata": {},
   "outputs": [],
   "source": [
    "raw_data = pd.read_excel (r'raw_data.xlsx')"
   ]
  },
  {
   "cell_type": "markdown",
   "metadata": {},
   "source": [
    "# Análisis Exploratorio"
   ]
  },
  {
   "cell_type": "markdown",
   "metadata": {},
   "source": [
    "#### Comenzamos echando un ojo a la data en crudo que tenemos. Es un dataset de 15 columnas por 197 filas. Cada columna representa una variable, las cuales tenemos que hacer una transformación previa para que los algoritmos de de Machine Learning de la librería Scikit-learn puedan interpretar estos datos.\n"
   ]
  },
  {
   "cell_type": "code",
   "execution_count": 3,
   "metadata": {},
   "outputs": [
    {
     "data": {
      "text/html": [
       "<div>\n",
       "<style scoped>\n",
       "    .dataframe tbody tr th:only-of-type {\n",
       "        vertical-align: middle;\n",
       "    }\n",
       "\n",
       "    .dataframe tbody tr th {\n",
       "        vertical-align: top;\n",
       "    }\n",
       "\n",
       "    .dataframe thead th {\n",
       "        text-align: right;\n",
       "    }\n",
       "</style>\n",
       "<table border=\"1\" class=\"dataframe\">\n",
       "  <thead>\n",
       "    <tr style=\"text-align: right;\">\n",
       "      <th></th>\n",
       "      <th>País</th>\n",
       "      <th>Población</th>\n",
       "      <th>Densidad</th>\n",
       "      <th>%Riesgo Pobreza</th>\n",
       "      <th>Esperanza de vida</th>\n",
       "      <th>PIB p.Cap</th>\n",
       "      <th>Gasto Edu.p.Cap.</th>\n",
       "      <th>Gasto Salud p.Cap.</th>\n",
       "      <th>Índice Corrup.</th>\n",
       "      <th>Salario Medio</th>\n",
       "      <th>Emis.CO2 p.cap.</th>\n",
       "      <th>Decesos</th>\n",
       "      <th>Casos confirmados</th>\n",
       "      <th>Decesos x Mill.</th>\n",
       "      <th>Continente</th>\n",
       "    </tr>\n",
       "  </thead>\n",
       "  <tbody>\n",
       "    <tr>\n",
       "      <th>0</th>\n",
       "      <td>Afganistan</td>\n",
       "      <td>37.172.386</td>\n",
       "      <td>57.000</td>\n",
       "      <td>NaN</td>\n",
       "      <td>64,49</td>\n",
       "      <td>447€</td>\n",
       "      <td>23$</td>\n",
       "      <td>3€</td>\n",
       "      <td>16.000</td>\n",
       "      <td>NaN</td>\n",
       "      <td>0,29</td>\n",
       "      <td>1.481</td>\n",
       "      <td>40.026</td>\n",
       "      <td>39,84</td>\n",
       "      <td>ASIA</td>\n",
       "    </tr>\n",
       "    <tr>\n",
       "      <th>1</th>\n",
       "      <td>Albania</td>\n",
       "      <td>2.845.955</td>\n",
       "      <td>99.000</td>\n",
       "      <td>NaN</td>\n",
       "      <td>78,90</td>\n",
       "      <td>4.780€</td>\n",
       "      <td>129$</td>\n",
       "      <td>168€</td>\n",
       "      <td>36.000</td>\n",
       "      <td>NaN</td>\n",
       "      <td>1,64</td>\n",
       "      <td>439.000</td>\n",
       "      <td>16.212</td>\n",
       "      <td>154,25</td>\n",
       "      <td>EUROPA</td>\n",
       "    </tr>\n",
       "    <tr>\n",
       "      <th>2</th>\n",
       "      <td>Alemania</td>\n",
       "      <td>83.166.711</td>\n",
       "      <td>233.000</td>\n",
       "      <td>16,7%</td>\n",
       "      <td>81,00</td>\n",
       "      <td>41.350€</td>\n",
       "      <td>2.022$</td>\n",
       "      <td>4.099€</td>\n",
       "      <td>80.000</td>\n",
       "      <td>52.185€</td>\n",
       "      <td>9,15</td>\n",
       "      <td>9.739</td>\n",
       "      <td>352.107</td>\n",
       "      <td>117,10</td>\n",
       "      <td>EUROPA</td>\n",
       "    </tr>\n",
       "    <tr>\n",
       "      <th>3</th>\n",
       "      <td>Andorra</td>\n",
       "      <td>77.543</td>\n",
       "      <td>165.000</td>\n",
       "      <td>NaN</td>\n",
       "      <td>90,00</td>\n",
       "      <td>35.975€</td>\n",
       "      <td>1.371$</td>\n",
       "      <td>1.754€</td>\n",
       "      <td>nan</td>\n",
       "      <td>NaN</td>\n",
       "      <td>NaN</td>\n",
       "      <td>59.000</td>\n",
       "      <td>3.190</td>\n",
       "      <td>760,87</td>\n",
       "      <td>EUROPA</td>\n",
       "    </tr>\n",
       "    <tr>\n",
       "      <th>4</th>\n",
       "      <td>Angola</td>\n",
       "      <td>30.809.762</td>\n",
       "      <td>25.000</td>\n",
       "      <td>NaN</td>\n",
       "      <td>60,78</td>\n",
       "      <td>2.910€</td>\n",
       "      <td>125$</td>\n",
       "      <td>47€</td>\n",
       "      <td>19.000</td>\n",
       "      <td>NaN</td>\n",
       "      <td>0,98</td>\n",
       "      <td>228.000</td>\n",
       "      <td>7.096</td>\n",
       "      <td>7,40</td>\n",
       "      <td>AFRICA</td>\n",
       "    </tr>\n",
       "    <tr>\n",
       "      <th>...</th>\n",
       "      <td>...</td>\n",
       "      <td>...</td>\n",
       "      <td>...</td>\n",
       "      <td>...</td>\n",
       "      <td>...</td>\n",
       "      <td>...</td>\n",
       "      <td>...</td>\n",
       "      <td>...</td>\n",
       "      <td>...</td>\n",
       "      <td>...</td>\n",
       "      <td>...</td>\n",
       "      <td>...</td>\n",
       "      <td>...</td>\n",
       "      <td>...</td>\n",
       "      <td>...</td>\n",
       "    </tr>\n",
       "    <tr>\n",
       "      <th>192</th>\n",
       "      <td>Yemen</td>\n",
       "      <td>28.498.687</td>\n",
       "      <td>54.000</td>\n",
       "      <td>NaN</td>\n",
       "      <td>66,10</td>\n",
       "      <td>800€</td>\n",
       "      <td>60$</td>\n",
       "      <td>7€</td>\n",
       "      <td>14.000</td>\n",
       "      <td>NaN</td>\n",
       "      <td>0,41</td>\n",
       "      <td>596.000</td>\n",
       "      <td>2.053</td>\n",
       "      <td>20,91</td>\n",
       "      <td>ASIA</td>\n",
       "    </tr>\n",
       "    <tr>\n",
       "      <th>193</th>\n",
       "      <td>Yibuti</td>\n",
       "      <td>1.049.000</td>\n",
       "      <td>45.000</td>\n",
       "      <td>NaN</td>\n",
       "      <td>66,58</td>\n",
       "      <td>2.359€</td>\n",
       "      <td>155$</td>\n",
       "      <td>29€</td>\n",
       "      <td>31.000</td>\n",
       "      <td>NaN</td>\n",
       "      <td>1,08</td>\n",
       "      <td>61.000</td>\n",
       "      <td>5.443</td>\n",
       "      <td>58,15</td>\n",
       "      <td>AFRICA</td>\n",
       "    </tr>\n",
       "    <tr>\n",
       "      <th>194</th>\n",
       "      <td>Zambia</td>\n",
       "      <td>17.351.822</td>\n",
       "      <td>23.000</td>\n",
       "      <td>NaN</td>\n",
       "      <td>63,51</td>\n",
       "      <td>1.304€</td>\n",
       "      <td>72$</td>\n",
       "      <td>23€</td>\n",
       "      <td>35.000</td>\n",
       "      <td>NaN</td>\n",
       "      <td>0,29</td>\n",
       "      <td>346.000</td>\n",
       "      <td>15.659</td>\n",
       "      <td>19,94</td>\n",
       "      <td>AFRICA</td>\n",
       "    </tr>\n",
       "    <tr>\n",
       "      <th>195</th>\n",
       "      <td>Zimbabue</td>\n",
       "      <td>14.439.018</td>\n",
       "      <td>37.000</td>\n",
       "      <td>NaN</td>\n",
       "      <td>61,20</td>\n",
       "      <td>1.818€</td>\n",
       "      <td>99$</td>\n",
       "      <td>50€</td>\n",
       "      <td>22.000</td>\n",
       "      <td>NaN</td>\n",
       "      <td>0,77</td>\n",
       "      <td>231.000</td>\n",
       "      <td>8.075</td>\n",
       "      <td>16,00</td>\n",
       "      <td>AFRICA</td>\n",
       "    </tr>\n",
       "    <tr>\n",
       "      <th>196</th>\n",
       "      <td>Zona Euro</td>\n",
       "      <td>341.858.176</td>\n",
       "      <td>124.000</td>\n",
       "      <td>17,2%</td>\n",
       "      <td>81,96</td>\n",
       "      <td>34.790€</td>\n",
       "      <td>NaN</td>\n",
       "      <td>NaN</td>\n",
       "      <td>nan</td>\n",
       "      <td>NaN</td>\n",
       "      <td>NaN</td>\n",
       "      <td>nan</td>\n",
       "      <td>NaN</td>\n",
       "      <td>NaN</td>\n",
       "      <td>NaN</td>\n",
       "    </tr>\n",
       "  </tbody>\n",
       "</table>\n",
       "<p>197 rows × 15 columns</p>\n",
       "</div>"
      ],
      "text/plain": [
       "           País    Población  Densidad %Riesgo Pobreza Esperanza de vida  \\\n",
       "0    Afganistan   37.172.386    57.000             NaN             64,49   \n",
       "1       Albania    2.845.955    99.000             NaN             78,90   \n",
       "2      Alemania   83.166.711   233.000           16,7%             81,00   \n",
       "3       Andorra       77.543   165.000             NaN             90,00   \n",
       "4        Angola   30.809.762    25.000             NaN             60,78   \n",
       "..          ...          ...       ...             ...               ...   \n",
       "192       Yemen   28.498.687    54.000             NaN             66,10   \n",
       "193      Yibuti    1.049.000    45.000             NaN             66,58   \n",
       "194      Zambia   17.351.822    23.000             NaN             63,51   \n",
       "195    Zimbabue   14.439.018    37.000             NaN             61,20   \n",
       "196   Zona Euro  341.858.176   124.000           17,2%             81,96   \n",
       "\n",
       "    PIB p.Cap Gasto Edu.p.Cap. Gasto Salud p.Cap.  Índice Corrup.  \\\n",
       "0        447€              23$                 3€          16.000   \n",
       "1      4.780€             129$               168€          36.000   \n",
       "2     41.350€           2.022$             4.099€          80.000   \n",
       "3     35.975€           1.371$             1.754€             nan   \n",
       "4      2.910€             125$                47€          19.000   \n",
       "..        ...              ...                ...             ...   \n",
       "192      800€              60$                 7€          14.000   \n",
       "193    2.359€             155$                29€          31.000   \n",
       "194    1.304€              72$                23€          35.000   \n",
       "195    1.818€              99$                50€          22.000   \n",
       "196   34.790€              NaN                NaN             nan   \n",
       "\n",
       "    Salario Medio Emis.CO2 p.cap.  Decesos Casos confirmados Decesos x Mill.  \\\n",
       "0             NaN            0,29    1.481            40.026           39,84   \n",
       "1             NaN            1,64  439.000            16.212          154,25   \n",
       "2         52.185€            9,15    9.739           352.107          117,10   \n",
       "3             NaN             NaN   59.000             3.190          760,87   \n",
       "4             NaN            0,98  228.000             7.096            7,40   \n",
       "..            ...             ...      ...               ...             ...   \n",
       "192           NaN            0,41  596.000             2.053           20,91   \n",
       "193           NaN            1,08   61.000             5.443           58,15   \n",
       "194           NaN            0,29  346.000            15.659           19,94   \n",
       "195           NaN            0,77  231.000             8.075           16,00   \n",
       "196           NaN             NaN      nan               NaN             NaN   \n",
       "\n",
       "    Continente  \n",
       "0         ASIA  \n",
       "1       EUROPA  \n",
       "2       EUROPA  \n",
       "3       EUROPA  \n",
       "4       AFRICA  \n",
       "..         ...  \n",
       "192       ASIA  \n",
       "193     AFRICA  \n",
       "194     AFRICA  \n",
       "195     AFRICA  \n",
       "196        NaN  \n",
       "\n",
       "[197 rows x 15 columns]"
      ]
     },
     "execution_count": 3,
     "metadata": {},
     "output_type": "execute_result"
    }
   ],
   "source": [
    "raw_data\n"
   ]
  },
  {
   "cell_type": "markdown",
   "metadata": {},
   "source": [
    "### De Strings a Numeric Values"
   ]
  },
  {
   "cell_type": "markdown",
   "metadata": {},
   "source": [
    "#### Muchas de las columnas que tenemos, al hacer el web scraping, se han ingestado como strings. Son valores que tenemos que pasar a tipo numéricos. Abajo podemos ver el tipo de valor que tiene cada variable, debemos transformarlas a int o a float, según el caso."
   ]
  },
  {
   "cell_type": "code",
   "execution_count": 4,
   "metadata": {},
   "outputs": [
    {
     "data": {
      "text/plain": [
       "País                   object\n",
       "Población              object\n",
       "Densidad              float64\n",
       "%Riesgo Pobreza        object\n",
       "Esperanza de vida      object\n",
       "PIB p.Cap              object\n",
       "Gasto Edu.p.Cap.       object\n",
       "Gasto Salud p.Cap.     object\n",
       "Índice Corrup.        float64\n",
       "Salario Medio          object\n",
       "Emis.CO2 p.cap.        object\n",
       "Decesos               float64\n",
       "Casos confirmados      object\n",
       "Decesos x Mill.        object\n",
       "Continente             object\n",
       "dtype: object"
      ]
     },
     "execution_count": 4,
     "metadata": {},
     "output_type": "execute_result"
    }
   ],
   "source": [
    "raw_data.dtypes"
   ]
  },
  {
   "cell_type": "code",
   "execution_count": 5,
   "metadata": {},
   "outputs": [],
   "source": [
    "raw_data['Población'] = raw_data['Población'].str.replace('\\.','').astype(int)\n",
    "raw_data['Esperanza de vida'] = raw_data['Esperanza de vida'].str.replace('\\,','.').astype(float)\n",
    "raw_data['PIB p.Cap'] = raw_data['PIB p.Cap'].str.replace('\\€','')\n",
    "raw_data['PIB p.Cap'] = raw_data['PIB p.Cap'].str.replace('\\.','').astype(int)\n",
    "raw_data['Gasto Edu.p.Cap.'] = raw_data['Gasto Edu.p.Cap.'].str.replace('\\$','').str.replace('\\.','')\n",
    "raw_data['Gasto Edu.p.Cap.'] = raw_data['Gasto Edu.p.Cap.'].fillna(0)\n",
    "raw_data['Gasto Edu.p.Cap.'] = raw_data['Gasto Edu.p.Cap.'].astype(int)\n",
    "raw_data['Gasto Salud p.Cap.'] = raw_data['Gasto Salud p.Cap.'].str.replace('\\€','').str.replace('\\.','')\n",
    "raw_data['Gasto Salud p.Cap.'] = raw_data['Gasto Salud p.Cap.'].fillna(0)\n",
    "raw_data['Gasto Salud p.Cap.'] = raw_data['Gasto Salud p.Cap.'].astype(int)\n",
    "raw_data['Emis.CO2 p.cap.'] = raw_data['Emis.CO2 p.cap.'].str.replace('\\,','.').astype(float)\n",
    "raw_data['Casos confirmados'] = raw_data['Casos confirmados'].str.replace('\\.','')\n",
    "raw_data['Casos confirmados'] = raw_data['Casos confirmados'].fillna(0)\n",
    "raw_data['Casos confirmados'] = raw_data['Casos confirmados'].astype(float)\n",
    "raw_data['Decesos x Mill.'] = raw_data['Decesos x Mill.'].str.replace('\\.','').str.replace('\\,','.')\n",
    "raw_data['Decesos x Mill.'] = raw_data['Decesos x Mill.'].astype(float)"
   ]
  },
  {
   "cell_type": "code",
   "execution_count": 6,
   "metadata": {},
   "outputs": [],
   "source": [
    "raw_data['Decesos'] = raw_data['Decesos'].round(decimals=3)\n",
    "raw_data['Decesos'] = raw_data['Decesos'].fillna(0)\n",
    "raw_data['Decesos'] = raw_data['Decesos'].apply(\"{:.3f}\".format)\n",
    "raw_data['Decesos'] = raw_data['Decesos'].astype(str)\n",
    "raw_data['Decesos'] = raw_data['Decesos'].str.replace('\\.000','')\n",
    "raw_data['Decesos'] = raw_data['Decesos'].str.replace('\\.','')\n",
    "raw_data['Decesos'] = raw_data['Decesos'].astype(float)"
   ]
  },
  {
   "cell_type": "code",
   "execution_count": 7,
   "metadata": {},
   "outputs": [],
   "source": [
    "raw_data['Densidad'] = raw_data['Densidad'].round(decimals=3)\n",
    "raw_data['Densidad'] = raw_data['Densidad'].fillna(0)\n",
    "raw_data['Densidad'] = raw_data['Densidad'].apply(\"{:.3f}\".format)\n",
    "raw_data['Densidad'] = raw_data['Densidad'].astype(str)\n",
    "raw_data['Densidad'] = raw_data['Densidad'].str.replace('\\.000','')\n",
    "raw_data['Densidad'] = raw_data['Densidad'].str.replace('\\.','')\n",
    "raw_data['Densidad'] = raw_data['Densidad'].astype(int)"
   ]
  },
  {
   "cell_type": "markdown",
   "metadata": {},
   "source": [
    "#### Luego de aplicar algunas transformaciones a las distintas columnas, he logrado obtener el formato adecuado para su procesamiento. Como podéis ver las columnas \"%Riesgo Pobreza\" y \"Salario Medio\", no las he tocado por los motivos que explico mas abajo. Ya tenemos todas las columnas con el tipo de variable que necesitamos (float e int según el caso):"
   ]
  },
  {
   "cell_type": "code",
   "execution_count": 8,
   "metadata": {},
   "outputs": [
    {
     "data": {
      "text/plain": [
       "País                   object\n",
       "Población               int32\n",
       "Densidad                int32\n",
       "%Riesgo Pobreza        object\n",
       "Esperanza de vida     float64\n",
       "PIB p.Cap               int32\n",
       "Gasto Edu.p.Cap.        int32\n",
       "Gasto Salud p.Cap.      int32\n",
       "Índice Corrup.        float64\n",
       "Salario Medio          object\n",
       "Emis.CO2 p.cap.       float64\n",
       "Decesos               float64\n",
       "Casos confirmados     float64\n",
       "Decesos x Mill.       float64\n",
       "Continente             object\n",
       "dtype: object"
      ]
     },
     "execution_count": 8,
     "metadata": {},
     "output_type": "execute_result"
    }
   ],
   "source": [
    "raw_data.dtypes"
   ]
  },
  {
   "cell_type": "markdown",
   "metadata": {},
   "source": [
    "# Missing Values"
   ]
  },
  {
   "cell_type": "markdown",
   "metadata": {},
   "source": [
    "#### Una de las primeras cosas que debemos tener en cuenta son los Missing Values, es decir los valores vacíos que tiene el dataset. "
   ]
  },
  {
   "cell_type": "code",
   "execution_count": 9,
   "metadata": {},
   "outputs": [
    {
     "data": {
      "text/plain": [
       "País                    0\n",
       "Población               0\n",
       "Densidad                0\n",
       "%Riesgo Pobreza       161\n",
       "Esperanza de vida       4\n",
       "PIB p.Cap               0\n",
       "Gasto Edu.p.Cap.        0\n",
       "Gasto Salud p.Cap.      0\n",
       "Índice Corrup.         12\n",
       "Salario Medio         156\n",
       "Emis.CO2 p.cap.        13\n",
       "Decesos                 0\n",
       "Casos confirmados       0\n",
       "Decesos x Mill.        14\n",
       "Continente              1\n",
       "dtype: int64"
      ]
     },
     "execution_count": 9,
     "metadata": {},
     "output_type": "execute_result"
    }
   ],
   "source": [
    "raw_data.isnull().sum()"
   ]
  },
  {
   "cell_type": "markdown",
   "metadata": {},
   "source": [
    "#### Podemos observar que la columna \"%Riesgo de pobreza\" tiene 161 valores vacíos (ósea que de 197 filas que tenemos, 161 se presentan nulas o vacías para esta variable), está claro que esta variable non nos servirá para el análisis. Lo mismo nos sucede con \"Salario medio\". Vamos a proceder a descartarlas para el análisis y tambien la última fila que indica la \"Zona Euro\" ya que no hace referencia a ningun pais y tiene la mayoría de sus columnas en Nan."
   ]
  },
  {
   "cell_type": "markdown",
   "metadata": {},
   "source": [
    "#### Los paises con menos de 1M de habitantes los descartaré por no aportar muchos datos contundentes sobre los decesos. También lo haré con los paises con mas de 500M, ya que forman parte de los outliers, los cuales afectan negativamente al modelo. Iré haciendo copias del dataset por si en algún momento me equivoco y tengo que retroceder."
   ]
  },
  {
   "cell_type": "code",
   "execution_count": 10,
   "metadata": {},
   "outputs": [],
   "source": [
    "data = raw_data.drop(['%Riesgo Pobreza','Salario Medio'],axis=1)\n",
    "data.drop(data.tail(1).index, inplace = True) \n",
    "data = data[data.Población > 1000000]\n",
    "data = data[data.Población < 500000000]"
   ]
  },
  {
   "cell_type": "code",
   "execution_count": 11,
   "metadata": {},
   "outputs": [
    {
     "data": {
      "text/plain": [
       "(156, 13)"
      ]
     },
     "execution_count": 11,
     "metadata": {},
     "output_type": "execute_result"
    }
   ],
   "source": [
    "data.shape"
   ]
  },
  {
   "cell_type": "code",
   "execution_count": 12,
   "metadata": {},
   "outputs": [
    {
     "data": {
      "text/plain": [
       "País                  0\n",
       "Población             0\n",
       "Densidad              0\n",
       "Esperanza de vida     1\n",
       "PIB p.Cap             0\n",
       "Gasto Edu.p.Cap.      0\n",
       "Gasto Salud p.Cap.    0\n",
       "Índice Corrup.        0\n",
       "Emis.CO2 p.cap.       3\n",
       "Decesos               0\n",
       "Casos confirmados     0\n",
       "Decesos x Mill.       3\n",
       "Continente            0\n",
       "dtype: int64"
      ]
     },
     "execution_count": 12,
     "metadata": {},
     "output_type": "execute_result"
    }
   ],
   "source": [
    "data.isnull().sum()"
   ]
  },
  {
   "cell_type": "markdown",
   "metadata": {},
   "source": [
    "#### Vemos que las columnas que tenían muchos missing values ya no están. Los Nan que han quedado, al representar menos del 5% de la data, podemos elimnar sus filas.\n"
   ]
  },
  {
   "cell_type": "code",
   "execution_count": 13,
   "metadata": {},
   "outputs": [],
   "source": [
    "data = data.dropna()"
   ]
  },
  {
   "cell_type": "code",
   "execution_count": 14,
   "metadata": {},
   "outputs": [],
   "source": [
    "data_without_nans = data.copy()"
   ]
  },
  {
   "cell_type": "markdown",
   "metadata": {},
   "source": [
    "#### Antes de continuar voy a agregar la variable dependiente que me gustaría poder predecir que en este caso es la Tasa de Letalidad."
   ]
  },
  {
   "cell_type": "code",
   "execution_count": 15,
   "metadata": {},
   "outputs": [],
   "source": [
    "data_without_nans['Tasa de Letalidad'] = (data_without_nans['Decesos']/data_without_nans['Casos confirmados'])*100"
   ]
  },
  {
   "cell_type": "markdown",
   "metadata": {},
   "source": [
    "#### Las variables dependientes como Decesos, Casos confirmados, y Decesos por Mill. también las quitaré porque para poder hacer predicciones con ellas necesitaríamos la variable tiempo, y ahí ya nos necesitaríamos de series temporales, que no es este caso."
   ]
  },
  {
   "cell_type": "code",
   "execution_count": 16,
   "metadata": {},
   "outputs": [],
   "source": [
    "data_without_nans = data_without_nans.drop(['Decesos','Casos confirmados','Decesos x Mill.'],axis=1)"
   ]
  },
  {
   "cell_type": "code",
   "execution_count": 17,
   "metadata": {},
   "outputs": [
    {
     "data": {
      "text/html": [
       "<div>\n",
       "<style scoped>\n",
       "    .dataframe tbody tr th:only-of-type {\n",
       "        vertical-align: middle;\n",
       "    }\n",
       "\n",
       "    .dataframe tbody tr th {\n",
       "        vertical-align: top;\n",
       "    }\n",
       "\n",
       "    .dataframe thead th {\n",
       "        text-align: right;\n",
       "    }\n",
       "</style>\n",
       "<table border=\"1\" class=\"dataframe\">\n",
       "  <thead>\n",
       "    <tr style=\"text-align: right;\">\n",
       "      <th></th>\n",
       "      <th>País</th>\n",
       "      <th>Población</th>\n",
       "      <th>Densidad</th>\n",
       "      <th>Esperanza de vida</th>\n",
       "      <th>PIB p.Cap</th>\n",
       "      <th>Gasto Edu.p.Cap.</th>\n",
       "      <th>Gasto Salud p.Cap.</th>\n",
       "      <th>Índice Corrup.</th>\n",
       "      <th>Emis.CO2 p.cap.</th>\n",
       "      <th>Continente</th>\n",
       "      <th>Tasa de Letalidad</th>\n",
       "    </tr>\n",
       "  </thead>\n",
       "  <tbody>\n",
       "    <tr>\n",
       "      <th>0</th>\n",
       "      <td>Afganistan</td>\n",
       "      <td>37172386</td>\n",
       "      <td>57</td>\n",
       "      <td>64.490</td>\n",
       "      <td>447</td>\n",
       "      <td>23</td>\n",
       "      <td>3</td>\n",
       "      <td>16.000</td>\n",
       "      <td>0.290</td>\n",
       "      <td>ASIA</td>\n",
       "      <td>3.700</td>\n",
       "    </tr>\n",
       "    <tr>\n",
       "      <th>1</th>\n",
       "      <td>Albania</td>\n",
       "      <td>2845955</td>\n",
       "      <td>99</td>\n",
       "      <td>78.900</td>\n",
       "      <td>4780</td>\n",
       "      <td>129</td>\n",
       "      <td>168</td>\n",
       "      <td>36.000</td>\n",
       "      <td>1.640</td>\n",
       "      <td>EUROPA</td>\n",
       "      <td>2.708</td>\n",
       "    </tr>\n",
       "    <tr>\n",
       "      <th>2</th>\n",
       "      <td>Alemania</td>\n",
       "      <td>83166711</td>\n",
       "      <td>233</td>\n",
       "      <td>81.000</td>\n",
       "      <td>41350</td>\n",
       "      <td>2022</td>\n",
       "      <td>4099</td>\n",
       "      <td>80.000</td>\n",
       "      <td>9.150</td>\n",
       "      <td>EUROPA</td>\n",
       "      <td>2.766</td>\n",
       "    </tr>\n",
       "    <tr>\n",
       "      <th>4</th>\n",
       "      <td>Angola</td>\n",
       "      <td>30809762</td>\n",
       "      <td>25</td>\n",
       "      <td>60.780</td>\n",
       "      <td>2910</td>\n",
       "      <td>125</td>\n",
       "      <td>47</td>\n",
       "      <td>19.000</td>\n",
       "      <td>0.980</td>\n",
       "      <td>AFRICA</td>\n",
       "      <td>3.213</td>\n",
       "    </tr>\n",
       "    <tr>\n",
       "      <th>6</th>\n",
       "      <td>Arabia Saudita</td>\n",
       "      <td>33699947</td>\n",
       "      <td>16</td>\n",
       "      <td>75.000</td>\n",
       "      <td>21019</td>\n",
       "      <td>1036</td>\n",
       "      <td>703</td>\n",
       "      <td>49.000</td>\n",
       "      <td>18.630</td>\n",
       "      <td>ASIA</td>\n",
       "      <td>1.503</td>\n",
       "    </tr>\n",
       "    <tr>\n",
       "      <th>...</th>\n",
       "      <td>...</td>\n",
       "      <td>...</td>\n",
       "      <td>...</td>\n",
       "      <td>...</td>\n",
       "      <td>...</td>\n",
       "      <td>...</td>\n",
       "      <td>...</td>\n",
       "      <td>...</td>\n",
       "      <td>...</td>\n",
       "      <td>...</td>\n",
       "      <td>...</td>\n",
       "    </tr>\n",
       "    <tr>\n",
       "      <th>191</th>\n",
       "      <td>Vietnam</td>\n",
       "      <td>95540395</td>\n",
       "      <td>288</td>\n",
       "      <td>75.320</td>\n",
       "      <td>2138</td>\n",
       "      <td>105</td>\n",
       "      <td>56</td>\n",
       "      <td>33.000</td>\n",
       "      <td>2.810</td>\n",
       "      <td>ASIA</td>\n",
       "      <td>3.114</td>\n",
       "    </tr>\n",
       "    <tr>\n",
       "      <th>192</th>\n",
       "      <td>Yemen</td>\n",
       "      <td>28498687</td>\n",
       "      <td>54</td>\n",
       "      <td>66.100</td>\n",
       "      <td>800</td>\n",
       "      <td>60</td>\n",
       "      <td>7</td>\n",
       "      <td>14.000</td>\n",
       "      <td>0.410</td>\n",
       "      <td>ASIA</td>\n",
       "      <td>29.031</td>\n",
       "    </tr>\n",
       "    <tr>\n",
       "      <th>193</th>\n",
       "      <td>Yibuti</td>\n",
       "      <td>1049000</td>\n",
       "      <td>45</td>\n",
       "      <td>66.580</td>\n",
       "      <td>2359</td>\n",
       "      <td>155</td>\n",
       "      <td>29</td>\n",
       "      <td>31.000</td>\n",
       "      <td>1.080</td>\n",
       "      <td>AFRICA</td>\n",
       "      <td>1.121</td>\n",
       "    </tr>\n",
       "    <tr>\n",
       "      <th>194</th>\n",
       "      <td>Zambia</td>\n",
       "      <td>17351822</td>\n",
       "      <td>23</td>\n",
       "      <td>63.510</td>\n",
       "      <td>1304</td>\n",
       "      <td>72</td>\n",
       "      <td>23</td>\n",
       "      <td>35.000</td>\n",
       "      <td>0.290</td>\n",
       "      <td>AFRICA</td>\n",
       "      <td>2.210</td>\n",
       "    </tr>\n",
       "    <tr>\n",
       "      <th>195</th>\n",
       "      <td>Zimbabue</td>\n",
       "      <td>14439018</td>\n",
       "      <td>37</td>\n",
       "      <td>61.200</td>\n",
       "      <td>1818</td>\n",
       "      <td>99</td>\n",
       "      <td>50</td>\n",
       "      <td>22.000</td>\n",
       "      <td>0.770</td>\n",
       "      <td>AFRICA</td>\n",
       "      <td>2.861</td>\n",
       "    </tr>\n",
       "  </tbody>\n",
       "</table>\n",
       "<p>149 rows × 11 columns</p>\n",
       "</div>"
      ],
      "text/plain": [
       "               País  Población  Densidad  Esperanza de vida  PIB p.Cap  \\\n",
       "0        Afganistan   37172386        57             64.490        447   \n",
       "1           Albania    2845955        99             78.900       4780   \n",
       "2          Alemania   83166711       233             81.000      41350   \n",
       "4            Angola   30809762        25             60.780       2910   \n",
       "6    Arabia Saudita   33699947        16             75.000      21019   \n",
       "..              ...        ...       ...                ...        ...   \n",
       "191         Vietnam   95540395       288             75.320       2138   \n",
       "192           Yemen   28498687        54             66.100        800   \n",
       "193          Yibuti    1049000        45             66.580       2359   \n",
       "194          Zambia   17351822        23             63.510       1304   \n",
       "195        Zimbabue   14439018        37             61.200       1818   \n",
       "\n",
       "     Gasto Edu.p.Cap.  Gasto Salud p.Cap.  Índice Corrup.  Emis.CO2 p.cap.  \\\n",
       "0                  23                   3          16.000            0.290   \n",
       "1                 129                 168          36.000            1.640   \n",
       "2                2022                4099          80.000            9.150   \n",
       "4                 125                  47          19.000            0.980   \n",
       "6                1036                 703          49.000           18.630   \n",
       "..                ...                 ...             ...              ...   \n",
       "191               105                  56          33.000            2.810   \n",
       "192                60                   7          14.000            0.410   \n",
       "193               155                  29          31.000            1.080   \n",
       "194                72                  23          35.000            0.290   \n",
       "195                99                  50          22.000            0.770   \n",
       "\n",
       "    Continente  Tasa de Letalidad  \n",
       "0         ASIA              3.700  \n",
       "1       EUROPA              2.708  \n",
       "2       EUROPA              2.766  \n",
       "4       AFRICA              3.213  \n",
       "6         ASIA              1.503  \n",
       "..         ...                ...  \n",
       "191       ASIA              3.114  \n",
       "192       ASIA             29.031  \n",
       "193     AFRICA              1.121  \n",
       "194     AFRICA              2.210  \n",
       "195     AFRICA              2.861  \n",
       "\n",
       "[149 rows x 11 columns]"
      ]
     },
     "execution_count": 17,
     "metadata": {},
     "output_type": "execute_result"
    }
   ],
   "source": [
    "data_without_nans"
   ]
  },
  {
   "cell_type": "code",
   "execution_count": 18,
   "metadata": {},
   "outputs": [
    {
     "data": {
      "text/plain": [
       "(149, 11)"
      ]
     },
     "execution_count": 18,
     "metadata": {},
     "output_type": "execute_result"
    }
   ],
   "source": [
    "data_without_nans.shape"
   ]
  },
  {
   "cell_type": "markdown",
   "metadata": {},
   "source": [
    "#### Durante este proceso se me ha ocurrido agregar dos variables independiente mas que tal vez tenga relación con la tasa de letalidad, estas son las entradas anuales de personas a los distintos países a través de aeropuertos (el turismo en definitiva, del cual he conseguido un dataset del año 2017, que tampoco varían tanto de año a año) y la temperatura media anual de cada país. Voy a proceder a hacer un join entre las dos tablas para poder agregar estas variables al dataset principal."
   ]
  },
  {
   "cell_type": "code",
   "execution_count": 19,
   "metadata": {},
   "outputs": [],
   "source": [
    "df_temp_arrivals = pd.read_excel (r'df_temp_arrivals.xlsx')"
   ]
  },
  {
   "cell_type": "code",
   "execution_count": 20,
   "metadata": {},
   "outputs": [
    {
     "data": {
      "text/plain": [
       "(155, 3)"
      ]
     },
     "execution_count": 20,
     "metadata": {},
     "output_type": "execute_result"
    }
   ],
   "source": [
    "df_temp_arrivals.shape"
   ]
  },
  {
   "cell_type": "code",
   "execution_count": 21,
   "metadata": {},
   "outputs": [],
   "source": [
    "data_without_nans_arrivals_temp = pd.merge(data_without_nans, df_temp_arrivals, how='left', left_on='País', right_on='País')"
   ]
  },
  {
   "cell_type": "code",
   "execution_count": 22,
   "metadata": {},
   "outputs": [
    {
     "data": {
      "text/plain": [
       "(149, 13)"
      ]
     },
     "execution_count": 22,
     "metadata": {},
     "output_type": "execute_result"
    }
   ],
   "source": [
    "data_without_nans_arrivals_temp.shape\n"
   ]
  },
  {
   "cell_type": "code",
   "execution_count": 23,
   "metadata": {},
   "outputs": [
    {
     "data": {
      "text/html": [
       "<div>\n",
       "<style scoped>\n",
       "    .dataframe tbody tr th:only-of-type {\n",
       "        vertical-align: middle;\n",
       "    }\n",
       "\n",
       "    .dataframe tbody tr th {\n",
       "        vertical-align: top;\n",
       "    }\n",
       "\n",
       "    .dataframe thead th {\n",
       "        text-align: right;\n",
       "    }\n",
       "</style>\n",
       "<table border=\"1\" class=\"dataframe\">\n",
       "  <thead>\n",
       "    <tr style=\"text-align: right;\">\n",
       "      <th></th>\n",
       "      <th>País</th>\n",
       "      <th>Población</th>\n",
       "      <th>Densidad</th>\n",
       "      <th>Esperanza de vida</th>\n",
       "      <th>PIB p.Cap</th>\n",
       "      <th>Gasto Edu.p.Cap.</th>\n",
       "      <th>Gasto Salud p.Cap.</th>\n",
       "      <th>Índice Corrup.</th>\n",
       "      <th>Emis.CO2 p.cap.</th>\n",
       "      <th>Continente</th>\n",
       "      <th>Tasa de Letalidad</th>\n",
       "      <th>Annual_temp</th>\n",
       "      <th>IT n. of arrivals 2017</th>\n",
       "    </tr>\n",
       "  </thead>\n",
       "  <tbody>\n",
       "    <tr>\n",
       "      <th>0</th>\n",
       "      <td>Afganistan</td>\n",
       "      <td>37172386</td>\n",
       "      <td>57</td>\n",
       "      <td>64.490</td>\n",
       "      <td>447</td>\n",
       "      <td>23</td>\n",
       "      <td>3</td>\n",
       "      <td>16.000</td>\n",
       "      <td>0.290</td>\n",
       "      <td>ASIA</td>\n",
       "      <td>3.700</td>\n",
       "      <td>12.921</td>\n",
       "      <td>nan</td>\n",
       "    </tr>\n",
       "    <tr>\n",
       "      <th>1</th>\n",
       "      <td>Albania</td>\n",
       "      <td>2845955</td>\n",
       "      <td>99</td>\n",
       "      <td>78.900</td>\n",
       "      <td>4780</td>\n",
       "      <td>129</td>\n",
       "      <td>168</td>\n",
       "      <td>36.000</td>\n",
       "      <td>1.640</td>\n",
       "      <td>EUROPA</td>\n",
       "      <td>2.708</td>\n",
       "      <td>11.270</td>\n",
       "      <td>4643000.000</td>\n",
       "    </tr>\n",
       "    <tr>\n",
       "      <th>2</th>\n",
       "      <td>Alemania</td>\n",
       "      <td>83166711</td>\n",
       "      <td>233</td>\n",
       "      <td>81.000</td>\n",
       "      <td>41350</td>\n",
       "      <td>2022</td>\n",
       "      <td>4099</td>\n",
       "      <td>80.000</td>\n",
       "      <td>9.150</td>\n",
       "      <td>EUROPA</td>\n",
       "      <td>2.766</td>\n",
       "      <td>8.504</td>\n",
       "      <td>37452000.000</td>\n",
       "    </tr>\n",
       "    <tr>\n",
       "      <th>3</th>\n",
       "      <td>Angola</td>\n",
       "      <td>30809762</td>\n",
       "      <td>25</td>\n",
       "      <td>60.780</td>\n",
       "      <td>2910</td>\n",
       "      <td>125</td>\n",
       "      <td>47</td>\n",
       "      <td>19.000</td>\n",
       "      <td>0.980</td>\n",
       "      <td>AFRICA</td>\n",
       "      <td>3.213</td>\n",
       "      <td>21.511</td>\n",
       "      <td>261000.000</td>\n",
       "    </tr>\n",
       "    <tr>\n",
       "      <th>4</th>\n",
       "      <td>Arabia Saudita</td>\n",
       "      <td>33699947</td>\n",
       "      <td>16</td>\n",
       "      <td>75.000</td>\n",
       "      <td>21019</td>\n",
       "      <td>1036</td>\n",
       "      <td>703</td>\n",
       "      <td>49.000</td>\n",
       "      <td>18.630</td>\n",
       "      <td>ASIA</td>\n",
       "      <td>1.503</td>\n",
       "      <td>24.651</td>\n",
       "      <td>16109000.000</td>\n",
       "    </tr>\n",
       "    <tr>\n",
       "      <th>...</th>\n",
       "      <td>...</td>\n",
       "      <td>...</td>\n",
       "      <td>...</td>\n",
       "      <td>...</td>\n",
       "      <td>...</td>\n",
       "      <td>...</td>\n",
       "      <td>...</td>\n",
       "      <td>...</td>\n",
       "      <td>...</td>\n",
       "      <td>...</td>\n",
       "      <td>...</td>\n",
       "      <td>...</td>\n",
       "      <td>...</td>\n",
       "    </tr>\n",
       "    <tr>\n",
       "      <th>144</th>\n",
       "      <td>Vietnam</td>\n",
       "      <td>95540395</td>\n",
       "      <td>288</td>\n",
       "      <td>75.320</td>\n",
       "      <td>2138</td>\n",
       "      <td>105</td>\n",
       "      <td>56</td>\n",
       "      <td>33.000</td>\n",
       "      <td>2.810</td>\n",
       "      <td>ASIA</td>\n",
       "      <td>3.114</td>\n",
       "      <td>24.070</td>\n",
       "      <td>12922000.000</td>\n",
       "    </tr>\n",
       "    <tr>\n",
       "      <th>145</th>\n",
       "      <td>Yemen</td>\n",
       "      <td>28498687</td>\n",
       "      <td>54</td>\n",
       "      <td>66.100</td>\n",
       "      <td>800</td>\n",
       "      <td>60</td>\n",
       "      <td>7</td>\n",
       "      <td>14.000</td>\n",
       "      <td>0.410</td>\n",
       "      <td>ASIA</td>\n",
       "      <td>29.031</td>\n",
       "      <td>nan</td>\n",
       "      <td>nan</td>\n",
       "    </tr>\n",
       "    <tr>\n",
       "      <th>146</th>\n",
       "      <td>Yibuti</td>\n",
       "      <td>1049000</td>\n",
       "      <td>45</td>\n",
       "      <td>66.580</td>\n",
       "      <td>2359</td>\n",
       "      <td>155</td>\n",
       "      <td>29</td>\n",
       "      <td>31.000</td>\n",
       "      <td>1.080</td>\n",
       "      <td>AFRICA</td>\n",
       "      <td>1.121</td>\n",
       "      <td>nan</td>\n",
       "      <td>nan</td>\n",
       "    </tr>\n",
       "    <tr>\n",
       "      <th>147</th>\n",
       "      <td>Zambia</td>\n",
       "      <td>17351822</td>\n",
       "      <td>23</td>\n",
       "      <td>63.510</td>\n",
       "      <td>1304</td>\n",
       "      <td>72</td>\n",
       "      <td>23</td>\n",
       "      <td>35.000</td>\n",
       "      <td>0.290</td>\n",
       "      <td>AFRICA</td>\n",
       "      <td>2.210</td>\n",
       "      <td>21.584</td>\n",
       "      <td>1083000.000</td>\n",
       "    </tr>\n",
       "    <tr>\n",
       "      <th>148</th>\n",
       "      <td>Zimbabue</td>\n",
       "      <td>14439018</td>\n",
       "      <td>37</td>\n",
       "      <td>61.200</td>\n",
       "      <td>1818</td>\n",
       "      <td>99</td>\n",
       "      <td>50</td>\n",
       "      <td>22.000</td>\n",
       "      <td>0.770</td>\n",
       "      <td>AFRICA</td>\n",
       "      <td>2.861</td>\n",
       "      <td>21.031</td>\n",
       "      <td>2423000.000</td>\n",
       "    </tr>\n",
       "  </tbody>\n",
       "</table>\n",
       "<p>149 rows × 13 columns</p>\n",
       "</div>"
      ],
      "text/plain": [
       "               País  Población  Densidad  Esperanza de vida  PIB p.Cap  \\\n",
       "0        Afganistan   37172386        57             64.490        447   \n",
       "1           Albania    2845955        99             78.900       4780   \n",
       "2          Alemania   83166711       233             81.000      41350   \n",
       "3            Angola   30809762        25             60.780       2910   \n",
       "4    Arabia Saudita   33699947        16             75.000      21019   \n",
       "..              ...        ...       ...                ...        ...   \n",
       "144         Vietnam   95540395       288             75.320       2138   \n",
       "145           Yemen   28498687        54             66.100        800   \n",
       "146          Yibuti    1049000        45             66.580       2359   \n",
       "147          Zambia   17351822        23             63.510       1304   \n",
       "148        Zimbabue   14439018        37             61.200       1818   \n",
       "\n",
       "     Gasto Edu.p.Cap.  Gasto Salud p.Cap.  Índice Corrup.  Emis.CO2 p.cap.  \\\n",
       "0                  23                   3          16.000            0.290   \n",
       "1                 129                 168          36.000            1.640   \n",
       "2                2022                4099          80.000            9.150   \n",
       "3                 125                  47          19.000            0.980   \n",
       "4                1036                 703          49.000           18.630   \n",
       "..                ...                 ...             ...              ...   \n",
       "144               105                  56          33.000            2.810   \n",
       "145                60                   7          14.000            0.410   \n",
       "146               155                  29          31.000            1.080   \n",
       "147                72                  23          35.000            0.290   \n",
       "148                99                  50          22.000            0.770   \n",
       "\n",
       "    Continente  Tasa de Letalidad  Annual_temp  IT n. of arrivals 2017  \n",
       "0         ASIA              3.700       12.921                     nan  \n",
       "1       EUROPA              2.708       11.270             4643000.000  \n",
       "2       EUROPA              2.766        8.504            37452000.000  \n",
       "3       AFRICA              3.213       21.511              261000.000  \n",
       "4         ASIA              1.503       24.651            16109000.000  \n",
       "..         ...                ...          ...                     ...  \n",
       "144       ASIA              3.114       24.070            12922000.000  \n",
       "145       ASIA             29.031          nan                     nan  \n",
       "146     AFRICA              1.121          nan                     nan  \n",
       "147     AFRICA              2.210       21.584             1083000.000  \n",
       "148     AFRICA              2.861       21.031             2423000.000  \n",
       "\n",
       "[149 rows x 13 columns]"
      ]
     },
     "execution_count": 23,
     "metadata": {},
     "output_type": "execute_result"
    }
   ],
   "source": [
    "data_without_nans_arrivals_temp"
   ]
  },
  {
   "cell_type": "code",
   "execution_count": 24,
   "metadata": {},
   "outputs": [
    {
     "data": {
      "text/plain": [
       "País                       0\n",
       "Población                  0\n",
       "Densidad                   0\n",
       "Esperanza de vida          0\n",
       "PIB p.Cap                  0\n",
       "Gasto Edu.p.Cap.           0\n",
       "Gasto Salud p.Cap.         0\n",
       "Índice Corrup.             0\n",
       "Emis.CO2 p.cap.            0\n",
       "Continente                 0\n",
       "Tasa de Letalidad          0\n",
       "Annual_temp               28\n",
       "IT n. of arrivals 2017    41\n",
       "dtype: int64"
      ]
     },
     "execution_count": 24,
     "metadata": {},
     "output_type": "execute_result"
    }
   ],
   "source": [
    "data_without_nans_arrivals_temp.isnull().sum()"
   ]
  },
  {
   "cell_type": "code",
   "execution_count": 25,
   "metadata": {},
   "outputs": [
    {
     "data": {
      "text/plain": [
       "(149, 13)"
      ]
     },
     "execution_count": 25,
     "metadata": {},
     "output_type": "execute_result"
    }
   ],
   "source": [
    "data_without_nans_arrivals_temp.shape"
   ]
  },
  {
   "cell_type": "markdown",
   "metadata": {},
   "source": [
    "#### Los dataframes que he conseguido tienen muchísimos nans, uno 28 y otro 41, eliminar tantas filas podría afectar al modelo así que voy a optar por tratar estos nans, los sustituiré por la mediana (nunca por la media porque los outliers podrían afectar negativamente) de sus respectivas columnas."
   ]
  },
  {
   "cell_type": "code",
   "execution_count": 26,
   "metadata": {},
   "outputs": [],
   "source": [
    "data_without_nans_arrivals_temp['Annual_temp'] = data_without_nans_arrivals_temp['Annual_temp'].fillna(data_without_nans_arrivals_temp['Annual_temp'].median())\n",
    "data_without_nans_arrivals_temp['IT n. of arrivals 2017'] = data_without_nans_arrivals_temp['IT n. of arrivals 2017'].fillna(data_without_nans_arrivals_temp['IT n. of arrivals 2017'].median())"
   ]
  },
  {
   "cell_type": "markdown",
   "metadata": {},
   "source": [
    "### Una vez que ya tengo las variables independientes que me interesan con los missing values ya tratados, voy a analizar qué tipo de distribución tienen, y cómo es la correlación con la variable dependiente, en este caso la \"Tasa de Letalidad\"."
   ]
  },
  {
   "cell_type": "code",
   "execution_count": 27,
   "metadata": {},
   "outputs": [],
   "source": [
    "dfcorr = data_without_nans_arrivals_temp[['Tasa de Letalidad','Población', 'Densidad', 'Esperanza de vida', 'PIB p.Cap',\n",
    "       'Gasto Edu.p.Cap.', 'Gasto Salud p.Cap.', 'Índice Corrup.',\n",
    "       'Emis.CO2 p.cap.','Annual_temp','IT n. of arrivals 2017']]"
   ]
  },
  {
   "cell_type": "code",
   "execution_count": 28,
   "metadata": {},
   "outputs": [],
   "source": [
    "#fig, axes = plt.subplots(ncols=len(dfcorr.columns), figsize=(30,5))\n",
    "#for ax, col in zip(axes, dfcorr.columns):\n",
    "#  sns.distplot(dfcorr[col], ax=ax)\n",
    "#  plt.tight_layout() \n",
    "#plt.show()"
   ]
  },
  {
   "cell_type": "code",
   "execution_count": 29,
   "metadata": {},
   "outputs": [
    {
     "data": {
      "text/plain": [
       "Text(0.5, 1.0, 'Esperanza de vida y Tasa de Letalidad')"
      ]
     },
     "execution_count": 29,
     "metadata": {},
     "output_type": "execute_result"
    },
    {
     "data": {
      "image/png": "[encoded data removed]",
      "text/plain": [
       "<Figure size 1080x216 with 3 Axes>"
      ]
     },
     "metadata": {},
     "output_type": "display_data"
    }
   ],
   "source": [
    "f, (ax1, ax2, ax3) = plt.subplots(1, 3, sharey=True, figsize =(15,3)) #sharey -> share 'Price' as y\n",
    "ax1.scatter(data_without_nans_arrivals_temp['Población'],data_without_nans_arrivals_temp['Tasa de Letalidad'])\n",
    "ax1.set_title('Población y Tasa de Letalidad')\n",
    "ax2.scatter(data_without_nans_arrivals_temp['Densidad'],data_without_nans_arrivals_temp['Tasa de Letalidad'])\n",
    "ax2.set_title('Densidad y Tasa de Letalidad')\n",
    "ax3.scatter(data_without_nans_arrivals_temp['Esperanza de vida'],data_without_nans_arrivals_temp['Tasa de Letalidad'])\n",
    "ax3.set_title('Esperanza de vida y Tasa de Letalidad')\n"
   ]
  },
  {
   "cell_type": "code",
   "execution_count": 30,
   "metadata": {},
   "outputs": [
    {
     "data": {
      "text/plain": [
       "Text(0.5, 1.0, 'Índice Corrup. y Tasa de Letalidad')"
      ]
     },
     "execution_count": 30,
     "metadata": {},
     "output_type": "execute_result"
    },
    {
     "data": {
      "image/png": "[encoded data removed]",
      "text/plain": [
       "<Figure size 1080x216 with 3 Axes>"
      ]
     },
     "metadata": {},
     "output_type": "display_data"
    }
   ],
   "source": [
    "f, (ax4, ax5, ax6) = plt.subplots(1, 3, sharey=True, figsize =(15,3)) #sharey -> share 'Price' as y\n",
    "ax4.scatter(data_without_nans_arrivals_temp['PIB p.Cap'],data_without_nans_arrivals_temp['Tasa de Letalidad'])\n",
    "ax4.set_title('PIB p.Cap y Tasa de Letalidad')\n",
    "ax5.scatter(data_without_nans_arrivals_temp['Gasto Edu.p.Cap.'],data_without_nans_arrivals_temp['Tasa de Letalidad'])\n",
    "ax5.set_title('Gasto Edu.p.Cap. y Tasa de Letalidad')\n",
    "ax6.scatter(data_without_nans_arrivals_temp['Índice Corrup.'],data_without_nans_arrivals_temp['Tasa de Letalidad'])\n",
    "ax6.set_title('Índice Corrup. y Tasa de Letalidad')\n"
   ]
  },
  {
   "cell_type": "code",
   "execution_count": 31,
   "metadata": {},
   "outputs": [
    {
     "data": {
      "text/plain": [
       "Text(0.5, 1.0, 'IT n. of arrivals 2017 y Tasa de Letalidad')"
      ]
     },
     "execution_count": 31,
     "metadata": {},
     "output_type": "execute_result"
    },
    {
     "data": {
      "image/png": "[encoded data removed]",
      "text/plain": [
       "<Figure size 1440x360 with 2 Axes>"
      ]
     },
     "metadata": {},
     "output_type": "display_data"
    }
   ],
   "source": [
    "f, (ax7, ax8) = plt.subplots(1, 2, sharey=True, figsize =(20,5)) #sharey -> share 'Price' as y\n",
    "ax7.scatter(data_without_nans_arrivals_temp['Annual_temp'],data_without_nans_arrivals_temp['Tasa de Letalidad'])\n",
    "ax7.set_title('Annual_temp y Tasa de Letalidad')\n",
    "ax8.scatter(data_without_nans_arrivals_temp['IT n. of arrivals 2017'],data_without_nans_arrivals_temp['Tasa de Letalidad'])\n",
    "ax8.set_title('IT n. of arrivals 2017 y Tasa de Letalidad')\n",
    "\n"
   ]
  },
  {
   "cell_type": "code",
   "execution_count": 32,
   "metadata": {},
   "outputs": [
    {
     "data": {
      "text/plain": [
       "Index(['País', 'Población', 'Densidad', 'Esperanza de vida', 'PIB p.Cap',\n",
       "       'Gasto Edu.p.Cap.', 'Gasto Salud p.Cap.', 'Índice Corrup.',\n",
       "       'Emis.CO2 p.cap.', 'Continente', 'Tasa de Letalidad', 'Annual_temp',\n",
       "       'IT n. of arrivals 2017'],\n",
       "      dtype='object')"
      ]
     },
     "execution_count": 32,
     "metadata": {},
     "output_type": "execute_result"
    }
   ],
   "source": [
    "data_without_nans_arrivals_temp.columns\n"
   ]
  },
  {
   "cell_type": "markdown",
   "metadata": {},
   "source": [
    "#### De los histogramas y de los scater plots puedo apreciar que son variables con mucha asimetría, y que la correlación con la variable dependiente es muy débil, por lo que haré una transformación logarítmica de todas las variables independientes y ver si esto me puede ayudar."
   ]
  },
  {
   "cell_type": "code",
   "execution_count": 33,
   "metadata": {},
   "outputs": [],
   "source": [
    "dataNumerica = data_without_nans_arrivals_temp.drop(['Continente'],axis=1)"
   ]
  },
  {
   "cell_type": "code",
   "execution_count": 34,
   "metadata": {},
   "outputs": [
    {
     "name": "stderr",
     "output_type": "stream",
     "text": [
      "C:\\Users\\engel\\Anaconda3\\lib\\site-packages\\ipykernel_launcher.py:1: RuntimeWarning: divide by zero encountered in log\n",
      "  \"\"\"Entry point for launching an IPython kernel.\n",
      "C:\\Users\\engel\\Anaconda3\\lib\\site-packages\\ipykernel_launcher.py:1: RuntimeWarning: invalid value encountered in log\n",
      "  \"\"\"Entry point for launching an IPython kernel.\n"
     ]
    }
   ],
   "source": [
    "log_data_with_nans = np.log(dataNumerica.drop(['País'],axis=1))"
   ]
  },
  {
   "cell_type": "code",
   "execution_count": 35,
   "metadata": {},
   "outputs": [],
   "source": [
    "log_data_with_nans['País'] = data_without_nans_arrivals_temp['País']"
   ]
  },
  {
   "cell_type": "code",
   "execution_count": 36,
   "metadata": {},
   "outputs": [
    {
     "data": {
      "text/plain": [
       "Población                 0\n",
       "Densidad                  0\n",
       "Esperanza de vida         0\n",
       "PIB p.Cap                 0\n",
       "Gasto Edu.p.Cap.          0\n",
       "Gasto Salud p.Cap.        0\n",
       "Índice Corrup.            0\n",
       "Emis.CO2 p.cap.           0\n",
       "Tasa de Letalidad         0\n",
       "Annual_temp               2\n",
       "IT n. of arrivals 2017    0\n",
       "País                      0\n",
       "dtype: int64"
      ]
     },
     "execution_count": 36,
     "metadata": {},
     "output_type": "execute_result"
    }
   ],
   "source": [
    "log_data_with_nans.isnull().sum()"
   ]
  },
  {
   "cell_type": "code",
   "execution_count": 37,
   "metadata": {},
   "outputs": [],
   "source": [
    "log_data_without_nans = log_data_with_nans.dropna()"
   ]
  },
  {
   "cell_type": "code",
   "execution_count": 38,
   "metadata": {},
   "outputs": [],
   "source": [
    "# De esta manera podemos tratar los valores inf y -inf\n",
    "log_data_without_nans = log_data_with_nans.replace([np.inf, -np.inf],0)"
   ]
  },
  {
   "cell_type": "code",
   "execution_count": 39,
   "metadata": {},
   "outputs": [
    {
     "data": {
      "text/plain": [
       "Población                 0\n",
       "Densidad                  0\n",
       "Esperanza de vida         0\n",
       "PIB p.Cap                 0\n",
       "Gasto Edu.p.Cap.          0\n",
       "Gasto Salud p.Cap.        0\n",
       "Índice Corrup.            0\n",
       "Emis.CO2 p.cap.           0\n",
       "Tasa de Letalidad         0\n",
       "Annual_temp               2\n",
       "IT n. of arrivals 2017    0\n",
       "País                      0\n",
       "dtype: int64"
      ]
     },
     "execution_count": 39,
     "metadata": {},
     "output_type": "execute_result"
    }
   ],
   "source": [
    "log_data_without_nans.isnull().sum()"
   ]
  },
  {
   "cell_type": "code",
   "execution_count": 40,
   "metadata": {},
   "outputs": [],
   "source": [
    "df_distribution_log = log_data_without_nans.drop(['País'],axis=1)"
   ]
  },
  {
   "cell_type": "code",
   "execution_count": 41,
   "metadata": {},
   "outputs": [
    {
     "data": {
      "image/png": "[encoded data removed]",
      "text/plain": [
       "<Figure size 2160x360 with 11 Axes>"
      ]
     },
     "metadata": {},
     "output_type": "display_data"
    }
   ],
   "source": [
    "fig, axes = plt.subplots(ncols=len(df_distribution_log.columns), figsize=(30,5))\n",
    "for ax, col in zip(axes, df_distribution_log.columns):\n",
    "  sns.distplot(df_distribution_log[col], ax=ax)\n",
    "  plt.tight_layout() \n",
    "plt.show()"
   ]
  },
  {
   "cell_type": "markdown",
   "metadata": {},
   "source": [
    "### Veo que ha funcionado, y sus distribuciones se asemejan mas a una distribución normal. Voy a ver en un mapa de calor de correlaciones si estas han mejorado con respecto a la variable dependiente."
   ]
  },
  {
   "cell_type": "code",
   "execution_count": 42,
   "metadata": {},
   "outputs": [
    {
     "data": {
      "image/png": "[encoded data removed]",
      "text/plain": [
       "<Figure size 864x720 with 2 Axes>"
      ]
     },
     "metadata": {},
     "output_type": "display_data"
    }
   ],
   "source": [
    "corr = log_data_without_nans.corr()\n",
    "fig = plt.figure(figsize = (12,10))\n",
    "ax = fig.add_subplot(111)\n",
    "cax = ax.matshow(corr,cmap='coolwarm', vmin=-1, vmax=1)\n",
    "fig.colorbar(cax)\n",
    "ticks = np.arange(0,len(log_data_without_nans.columns),1)\n",
    "ax.set_xticks(ticks)\n",
    "plt.xticks(rotation=90)\n",
    "ax.set_yticks(ticks)\n",
    "ax.set_xticklabels(corr.columns)\n",
    "ax.set_yticklabels(corr.columns)\n",
    "plt.show()"
   ]
  },
  {
   "cell_type": "markdown",
   "metadata": {},
   "source": [
    "### Tambien se puede apreciar en esta tabla con los valores mas precisos:"
   ]
  },
  {
   "cell_type": "code",
   "execution_count": 43,
   "metadata": {},
   "outputs": [],
   "source": [
    "tablaCorrelation = log_data_without_nans.corr(method='pearson')"
   ]
  },
  {
   "cell_type": "code",
   "execution_count": 44,
   "metadata": {},
   "outputs": [
    {
     "data": {
      "text/html": [
       "<div>\n",
       "<style scoped>\n",
       "    .dataframe tbody tr th:only-of-type {\n",
       "        vertical-align: middle;\n",
       "    }\n",
       "\n",
       "    .dataframe tbody tr th {\n",
       "        vertical-align: top;\n",
       "    }\n",
       "\n",
       "    .dataframe thead th {\n",
       "        text-align: right;\n",
       "    }\n",
       "</style>\n",
       "<table border=\"1\" class=\"dataframe\">\n",
       "  <thead>\n",
       "    <tr style=\"text-align: right;\">\n",
       "      <th></th>\n",
       "      <th>Población</th>\n",
       "      <th>Densidad</th>\n",
       "      <th>Esperanza de vida</th>\n",
       "      <th>PIB p.Cap</th>\n",
       "      <th>Gasto Edu.p.Cap.</th>\n",
       "      <th>Gasto Salud p.Cap.</th>\n",
       "      <th>Índice Corrup.</th>\n",
       "      <th>Emis.CO2 p.cap.</th>\n",
       "      <th>Tasa de Letalidad</th>\n",
       "      <th>Annual_temp</th>\n",
       "      <th>IT n. of arrivals 2017</th>\n",
       "    </tr>\n",
       "  </thead>\n",
       "  <tbody>\n",
       "    <tr>\n",
       "      <th>Población</th>\n",
       "      <td>1.000</td>\n",
       "      <td>0.095</td>\n",
       "      <td>0.027</td>\n",
       "      <td>-0.086</td>\n",
       "      <td>-0.032</td>\n",
       "      <td>-0.097</td>\n",
       "      <td>-0.106</td>\n",
       "      <td>-0.069</td>\n",
       "      <td>0.295</td>\n",
       "      <td>0.139</td>\n",
       "      <td>0.276</td>\n",
       "    </tr>\n",
       "    <tr>\n",
       "      <th>Densidad</th>\n",
       "      <td>0.095</td>\n",
       "      <td>1.000</td>\n",
       "      <td>0.205</td>\n",
       "      <td>0.088</td>\n",
       "      <td>0.049</td>\n",
       "      <td>0.052</td>\n",
       "      <td>0.129</td>\n",
       "      <td>0.040</td>\n",
       "      <td>-0.232</td>\n",
       "      <td>0.040</td>\n",
       "      <td>0.179</td>\n",
       "    </tr>\n",
       "    <tr>\n",
       "      <th>Esperanza de vida</th>\n",
       "      <td>0.027</td>\n",
       "      <td>0.205</td>\n",
       "      <td>1.000</td>\n",
       "      <td>0.815</td>\n",
       "      <td>0.783</td>\n",
       "      <td>0.838</td>\n",
       "      <td>0.657</td>\n",
       "      <td>0.787</td>\n",
       "      <td>-0.005</td>\n",
       "      <td>-0.466</td>\n",
       "      <td>0.577</td>\n",
       "    </tr>\n",
       "    <tr>\n",
       "      <th>PIB p.Cap</th>\n",
       "      <td>-0.086</td>\n",
       "      <td>0.088</td>\n",
       "      <td>0.815</td>\n",
       "      <td>1.000</td>\n",
       "      <td>0.911</td>\n",
       "      <td>0.963</td>\n",
       "      <td>0.773</td>\n",
       "      <td>0.885</td>\n",
       "      <td>-0.048</td>\n",
       "      <td>-0.485</td>\n",
       "      <td>0.581</td>\n",
       "    </tr>\n",
       "    <tr>\n",
       "      <th>Gasto Edu.p.Cap.</th>\n",
       "      <td>-0.032</td>\n",
       "      <td>0.049</td>\n",
       "      <td>0.783</td>\n",
       "      <td>0.911</td>\n",
       "      <td>1.000</td>\n",
       "      <td>0.910</td>\n",
       "      <td>0.763</td>\n",
       "      <td>0.803</td>\n",
       "      <td>-0.006</td>\n",
       "      <td>-0.482</td>\n",
       "      <td>0.561</td>\n",
       "    </tr>\n",
       "    <tr>\n",
       "      <th>Gasto Salud p.Cap.</th>\n",
       "      <td>-0.097</td>\n",
       "      <td>0.052</td>\n",
       "      <td>0.838</td>\n",
       "      <td>0.963</td>\n",
       "      <td>0.910</td>\n",
       "      <td>1.000</td>\n",
       "      <td>0.797</td>\n",
       "      <td>0.847</td>\n",
       "      <td>0.024</td>\n",
       "      <td>-0.523</td>\n",
       "      <td>0.572</td>\n",
       "    </tr>\n",
       "    <tr>\n",
       "      <th>Índice Corrup.</th>\n",
       "      <td>-0.106</td>\n",
       "      <td>0.129</td>\n",
       "      <td>0.657</td>\n",
       "      <td>0.773</td>\n",
       "      <td>0.763</td>\n",
       "      <td>0.797</td>\n",
       "      <td>1.000</td>\n",
       "      <td>0.595</td>\n",
       "      <td>-0.101</td>\n",
       "      <td>-0.513</td>\n",
       "      <td>0.440</td>\n",
       "    </tr>\n",
       "    <tr>\n",
       "      <th>Emis.CO2 p.cap.</th>\n",
       "      <td>-0.069</td>\n",
       "      <td>0.040</td>\n",
       "      <td>0.787</td>\n",
       "      <td>0.885</td>\n",
       "      <td>0.803</td>\n",
       "      <td>0.847</td>\n",
       "      <td>0.595</td>\n",
       "      <td>1.000</td>\n",
       "      <td>-0.080</td>\n",
       "      <td>-0.379</td>\n",
       "      <td>0.564</td>\n",
       "    </tr>\n",
       "    <tr>\n",
       "      <th>Tasa de Letalidad</th>\n",
       "      <td>0.295</td>\n",
       "      <td>-0.232</td>\n",
       "      <td>-0.005</td>\n",
       "      <td>-0.048</td>\n",
       "      <td>-0.006</td>\n",
       "      <td>0.024</td>\n",
       "      <td>-0.101</td>\n",
       "      <td>-0.080</td>\n",
       "      <td>1.000</td>\n",
       "      <td>-0.098</td>\n",
       "      <td>0.108</td>\n",
       "    </tr>\n",
       "    <tr>\n",
       "      <th>Annual_temp</th>\n",
       "      <td>0.139</td>\n",
       "      <td>0.040</td>\n",
       "      <td>-0.466</td>\n",
       "      <td>-0.485</td>\n",
       "      <td>-0.482</td>\n",
       "      <td>-0.523</td>\n",
       "      <td>-0.513</td>\n",
       "      <td>-0.379</td>\n",
       "      <td>-0.098</td>\n",
       "      <td>1.000</td>\n",
       "      <td>-0.294</td>\n",
       "    </tr>\n",
       "    <tr>\n",
       "      <th>IT n. of arrivals 2017</th>\n",
       "      <td>0.276</td>\n",
       "      <td>0.179</td>\n",
       "      <td>0.577</td>\n",
       "      <td>0.581</td>\n",
       "      <td>0.561</td>\n",
       "      <td>0.572</td>\n",
       "      <td>0.440</td>\n",
       "      <td>0.564</td>\n",
       "      <td>0.108</td>\n",
       "      <td>-0.294</td>\n",
       "      <td>1.000</td>\n",
       "    </tr>\n",
       "  </tbody>\n",
       "</table>\n",
       "</div>"
      ],
      "text/plain": [
       "                        Población  Densidad  Esperanza de vida  PIB p.Cap  \\\n",
       "Población                   1.000     0.095              0.027     -0.086   \n",
       "Densidad                    0.095     1.000              0.205      0.088   \n",
       "Esperanza de vida           0.027     0.205              1.000      0.815   \n",
       "PIB p.Cap                  -0.086     0.088              0.815      1.000   \n",
       "Gasto Edu.p.Cap.           -0.032     0.049              0.783      0.911   \n",
       "Gasto Salud p.Cap.         -0.097     0.052              0.838      0.963   \n",
       "Índice Corrup.             -0.106     0.129              0.657      0.773   \n",
       "Emis.CO2 p.cap.            -0.069     0.040              0.787      0.885   \n",
       "Tasa de Letalidad           0.295    -0.232             -0.005     -0.048   \n",
       "Annual_temp                 0.139     0.040             -0.466     -0.485   \n",
       "IT n. of arrivals 2017      0.276     0.179              0.577      0.581   \n",
       "\n",
       "                        Gasto Edu.p.Cap.  Gasto Salud p.Cap.  Índice Corrup.  \\\n",
       "Población                         -0.032              -0.097          -0.106   \n",
       "Densidad                           0.049               0.052           0.129   \n",
       "Esperanza de vida                  0.783               0.838           0.657   \n",
       "PIB p.Cap                          0.911               0.963           0.773   \n",
       "Gasto Edu.p.Cap.                   1.000               0.910           0.763   \n",
       "Gasto Salud p.Cap.                 0.910               1.000           0.797   \n",
       "Índice Corrup.                     0.763               0.797           1.000   \n",
       "Emis.CO2 p.cap.                    0.803               0.847           0.595   \n",
       "Tasa de Letalidad                 -0.006               0.024          -0.101   \n",
       "Annual_temp                       -0.482              -0.523          -0.513   \n",
       "IT n. of arrivals 2017             0.561               0.572           0.440   \n",
       "\n",
       "                        Emis.CO2 p.cap.  Tasa de Letalidad  Annual_temp  \\\n",
       "Población                        -0.069              0.295        0.139   \n",
       "Densidad                          0.040             -0.232        0.040   \n",
       "Esperanza de vida                 0.787             -0.005       -0.466   \n",
       "PIB p.Cap                         0.885             -0.048       -0.485   \n",
       "Gasto Edu.p.Cap.                  0.803             -0.006       -0.482   \n",
       "Gasto Salud p.Cap.                0.847              0.024       -0.523   \n",
       "Índice Corrup.                    0.595             -0.101       -0.513   \n",
       "Emis.CO2 p.cap.                   1.000             -0.080       -0.379   \n",
       "Tasa de Letalidad                -0.080              1.000       -0.098   \n",
       "Annual_temp                      -0.379             -0.098        1.000   \n",
       "IT n. of arrivals 2017            0.564              0.108       -0.294   \n",
       "\n",
       "                        IT n. of arrivals 2017  \n",
       "Población                                0.276  \n",
       "Densidad                                 0.179  \n",
       "Esperanza de vida                        0.577  \n",
       "PIB p.Cap                                0.581  \n",
       "Gasto Edu.p.Cap.                         0.561  \n",
       "Gasto Salud p.Cap.                       0.572  \n",
       "Índice Corrup.                           0.440  \n",
       "Emis.CO2 p.cap.                          0.564  \n",
       "Tasa de Letalidad                        0.108  \n",
       "Annual_temp                             -0.294  \n",
       "IT n. of arrivals 2017                   1.000  "
      ]
     },
     "execution_count": 44,
     "metadata": {},
     "output_type": "execute_result"
    }
   ],
   "source": [
    "tablaCorrelation"
   ]
  },
  {
   "cell_type": "markdown",
   "metadata": {},
   "source": [
    "### Me quedaré con las variables con la correlación mas alta"
   ]
  },
  {
   "cell_type": "code",
   "execution_count": 45,
   "metadata": {},
   "outputs": [],
   "source": [
    "dataNumericaConMejorCorrelacion = log_data_without_nans[['Tasa de Letalidad','Población','Densidad','Índice Corrup.','Emis.CO2 p.cap.','Annual_temp','IT n. of arrivals 2017']]"
   ]
  },
  {
   "cell_type": "code",
   "execution_count": 46,
   "metadata": {},
   "outputs": [
    {
     "data": {
      "text/html": [
       "<div>\n",
       "<style scoped>\n",
       "    .dataframe tbody tr th:only-of-type {\n",
       "        vertical-align: middle;\n",
       "    }\n",
       "\n",
       "    .dataframe tbody tr th {\n",
       "        vertical-align: top;\n",
       "    }\n",
       "\n",
       "    .dataframe thead th {\n",
       "        text-align: right;\n",
       "    }\n",
       "</style>\n",
       "<table border=\"1\" class=\"dataframe\">\n",
       "  <thead>\n",
       "    <tr style=\"text-align: right;\">\n",
       "      <th></th>\n",
       "      <th>Tasa de Letalidad</th>\n",
       "      <th>Población</th>\n",
       "      <th>Densidad</th>\n",
       "      <th>Índice Corrup.</th>\n",
       "      <th>Emis.CO2 p.cap.</th>\n",
       "      <th>Annual_temp</th>\n",
       "      <th>IT n. of arrivals 2017</th>\n",
       "    </tr>\n",
       "  </thead>\n",
       "  <tbody>\n",
       "    <tr>\n",
       "      <th>0</th>\n",
       "      <td>1.308</td>\n",
       "      <td>17.431</td>\n",
       "      <td>4.043</td>\n",
       "      <td>2.773</td>\n",
       "      <td>-1.238</td>\n",
       "      <td>2.559</td>\n",
       "      <td>15.039</td>\n",
       "    </tr>\n",
       "    <tr>\n",
       "      <th>1</th>\n",
       "      <td>0.996</td>\n",
       "      <td>14.861</td>\n",
       "      <td>4.595</td>\n",
       "      <td>3.584</td>\n",
       "      <td>0.495</td>\n",
       "      <td>2.422</td>\n",
       "      <td>15.351</td>\n",
       "    </tr>\n",
       "    <tr>\n",
       "      <th>2</th>\n",
       "      <td>1.017</td>\n",
       "      <td>18.236</td>\n",
       "      <td>5.451</td>\n",
       "      <td>4.382</td>\n",
       "      <td>2.214</td>\n",
       "      <td>2.141</td>\n",
       "      <td>17.439</td>\n",
       "    </tr>\n",
       "    <tr>\n",
       "      <th>3</th>\n",
       "      <td>1.167</td>\n",
       "      <td>17.243</td>\n",
       "      <td>3.219</td>\n",
       "      <td>2.944</td>\n",
       "      <td>-0.020</td>\n",
       "      <td>3.069</td>\n",
       "      <td>12.472</td>\n",
       "    </tr>\n",
       "    <tr>\n",
       "      <th>4</th>\n",
       "      <td>0.408</td>\n",
       "      <td>17.333</td>\n",
       "      <td>2.773</td>\n",
       "      <td>3.892</td>\n",
       "      <td>2.925</td>\n",
       "      <td>3.205</td>\n",
       "      <td>16.595</td>\n",
       "    </tr>\n",
       "    <tr>\n",
       "      <th>...</th>\n",
       "      <td>...</td>\n",
       "      <td>...</td>\n",
       "      <td>...</td>\n",
       "      <td>...</td>\n",
       "      <td>...</td>\n",
       "      <td>...</td>\n",
       "      <td>...</td>\n",
       "    </tr>\n",
       "    <tr>\n",
       "      <th>144</th>\n",
       "      <td>1.136</td>\n",
       "      <td>18.375</td>\n",
       "      <td>5.663</td>\n",
       "      <td>3.497</td>\n",
       "      <td>1.033</td>\n",
       "      <td>3.181</td>\n",
       "      <td>16.374</td>\n",
       "    </tr>\n",
       "    <tr>\n",
       "      <th>145</th>\n",
       "      <td>3.368</td>\n",
       "      <td>17.165</td>\n",
       "      <td>3.989</td>\n",
       "      <td>2.639</td>\n",
       "      <td>-0.892</td>\n",
       "      <td>3.043</td>\n",
       "      <td>15.039</td>\n",
       "    </tr>\n",
       "    <tr>\n",
       "      <th>146</th>\n",
       "      <td>0.114</td>\n",
       "      <td>13.863</td>\n",
       "      <td>3.807</td>\n",
       "      <td>3.434</td>\n",
       "      <td>0.077</td>\n",
       "      <td>3.043</td>\n",
       "      <td>15.039</td>\n",
       "    </tr>\n",
       "    <tr>\n",
       "      <th>147</th>\n",
       "      <td>0.793</td>\n",
       "      <td>16.669</td>\n",
       "      <td>3.135</td>\n",
       "      <td>3.555</td>\n",
       "      <td>-1.238</td>\n",
       "      <td>3.072</td>\n",
       "      <td>13.895</td>\n",
       "    </tr>\n",
       "    <tr>\n",
       "      <th>148</th>\n",
       "      <td>1.051</td>\n",
       "      <td>16.485</td>\n",
       "      <td>3.611</td>\n",
       "      <td>3.091</td>\n",
       "      <td>-0.261</td>\n",
       "      <td>3.046</td>\n",
       "      <td>14.701</td>\n",
       "    </tr>\n",
       "  </tbody>\n",
       "</table>\n",
       "<p>149 rows × 7 columns</p>\n",
       "</div>"
      ],
      "text/plain": [
       "     Tasa de Letalidad  Población  Densidad  Índice Corrup.  Emis.CO2 p.cap.  \\\n",
       "0                1.308     17.431     4.043           2.773           -1.238   \n",
       "1                0.996     14.861     4.595           3.584            0.495   \n",
       "2                1.017     18.236     5.451           4.382            2.214   \n",
       "3                1.167     17.243     3.219           2.944           -0.020   \n",
       "4                0.408     17.333     2.773           3.892            2.925   \n",
       "..                 ...        ...       ...             ...              ...   \n",
       "144              1.136     18.375     5.663           3.497            1.033   \n",
       "145              3.368     17.165     3.989           2.639           -0.892   \n",
       "146              0.114     13.863     3.807           3.434            0.077   \n",
       "147              0.793     16.669     3.135           3.555           -1.238   \n",
       "148              1.051     16.485     3.611           3.091           -0.261   \n",
       "\n",
       "     Annual_temp  IT n. of arrivals 2017  \n",
       "0          2.559                  15.039  \n",
       "1          2.422                  15.351  \n",
       "2          2.141                  17.439  \n",
       "3          3.069                  12.472  \n",
       "4          3.205                  16.595  \n",
       "..           ...                     ...  \n",
       "144        3.181                  16.374  \n",
       "145        3.043                  15.039  \n",
       "146        3.043                  15.039  \n",
       "147        3.072                  13.895  \n",
       "148        3.046                  14.701  \n",
       "\n",
       "[149 rows x 7 columns]"
      ]
     },
     "execution_count": 46,
     "metadata": {},
     "output_type": "execute_result"
    }
   ],
   "source": [
    "dataNumericaConMejorCorrelacion\n"
   ]
  },
  {
   "cell_type": "code",
   "execution_count": 47,
   "metadata": {},
   "outputs": [
    {
     "data": {
      "text/plain": [
       "Tasa de Letalidad         0\n",
       "Población                 0\n",
       "Densidad                  0\n",
       "Índice Corrup.            0\n",
       "Emis.CO2 p.cap.           0\n",
       "Annual_temp               2\n",
       "IT n. of arrivals 2017    0\n",
       "dtype: int64"
      ]
     },
     "execution_count": 47,
     "metadata": {},
     "output_type": "execute_result"
    }
   ],
   "source": [
    "dataNumericaConMejorCorrelacion.isnull().sum()"
   ]
  },
  {
   "cell_type": "code",
   "execution_count": 48,
   "metadata": {},
   "outputs": [
    {
     "name": "stderr",
     "output_type": "stream",
     "text": [
      "C:\\Users\\engel\\Anaconda3\\lib\\site-packages\\ipykernel_launcher.py:1: SettingWithCopyWarning: \n",
      "A value is trying to be set on a copy of a slice from a DataFrame.\n",
      "Try using .loc[row_indexer,col_indexer] = value instead\n",
      "\n",
      "See the caveats in the documentation: https://pandas.pydata.org/pandas-docs/stable/user_guide/indexing.html#returning-a-view-versus-a-copy\n",
      "  \"\"\"Entry point for launching an IPython kernel.\n"
     ]
    }
   ],
   "source": [
    "dataNumericaConMejorCorrelacion['País'] = log_data_with_nans['País']"
   ]
  },
  {
   "cell_type": "code",
   "execution_count": 49,
   "metadata": {},
   "outputs": [
    {
     "data": {
      "text/html": [
       "<div>\n",
       "<style scoped>\n",
       "    .dataframe tbody tr th:only-of-type {\n",
       "        vertical-align: middle;\n",
       "    }\n",
       "\n",
       "    .dataframe tbody tr th {\n",
       "        vertical-align: top;\n",
       "    }\n",
       "\n",
       "    .dataframe thead th {\n",
       "        text-align: right;\n",
       "    }\n",
       "</style>\n",
       "<table border=\"1\" class=\"dataframe\">\n",
       "  <thead>\n",
       "    <tr style=\"text-align: right;\">\n",
       "      <th></th>\n",
       "      <th>Tasa de Letalidad</th>\n",
       "      <th>Población</th>\n",
       "      <th>Densidad</th>\n",
       "      <th>Índice Corrup.</th>\n",
       "      <th>Emis.CO2 p.cap.</th>\n",
       "      <th>Annual_temp</th>\n",
       "      <th>IT n. of arrivals 2017</th>\n",
       "      <th>País</th>\n",
       "    </tr>\n",
       "  </thead>\n",
       "  <tbody>\n",
       "    <tr>\n",
       "      <th>0</th>\n",
       "      <td>1.308</td>\n",
       "      <td>17.431</td>\n",
       "      <td>4.043</td>\n",
       "      <td>2.773</td>\n",
       "      <td>-1.238</td>\n",
       "      <td>2.559</td>\n",
       "      <td>15.039</td>\n",
       "      <td>Afganistan</td>\n",
       "    </tr>\n",
       "    <tr>\n",
       "      <th>1</th>\n",
       "      <td>0.996</td>\n",
       "      <td>14.861</td>\n",
       "      <td>4.595</td>\n",
       "      <td>3.584</td>\n",
       "      <td>0.495</td>\n",
       "      <td>2.422</td>\n",
       "      <td>15.351</td>\n",
       "      <td>Albania</td>\n",
       "    </tr>\n",
       "    <tr>\n",
       "      <th>2</th>\n",
       "      <td>1.017</td>\n",
       "      <td>18.236</td>\n",
       "      <td>5.451</td>\n",
       "      <td>4.382</td>\n",
       "      <td>2.214</td>\n",
       "      <td>2.141</td>\n",
       "      <td>17.439</td>\n",
       "      <td>Alemania</td>\n",
       "    </tr>\n",
       "    <tr>\n",
       "      <th>3</th>\n",
       "      <td>1.167</td>\n",
       "      <td>17.243</td>\n",
       "      <td>3.219</td>\n",
       "      <td>2.944</td>\n",
       "      <td>-0.020</td>\n",
       "      <td>3.069</td>\n",
       "      <td>12.472</td>\n",
       "      <td>Angola</td>\n",
       "    </tr>\n",
       "    <tr>\n",
       "      <th>4</th>\n",
       "      <td>0.408</td>\n",
       "      <td>17.333</td>\n",
       "      <td>2.773</td>\n",
       "      <td>3.892</td>\n",
       "      <td>2.925</td>\n",
       "      <td>3.205</td>\n",
       "      <td>16.595</td>\n",
       "      <td>Arabia Saudita</td>\n",
       "    </tr>\n",
       "    <tr>\n",
       "      <th>...</th>\n",
       "      <td>...</td>\n",
       "      <td>...</td>\n",
       "      <td>...</td>\n",
       "      <td>...</td>\n",
       "      <td>...</td>\n",
       "      <td>...</td>\n",
       "      <td>...</td>\n",
       "      <td>...</td>\n",
       "    </tr>\n",
       "    <tr>\n",
       "      <th>144</th>\n",
       "      <td>1.136</td>\n",
       "      <td>18.375</td>\n",
       "      <td>5.663</td>\n",
       "      <td>3.497</td>\n",
       "      <td>1.033</td>\n",
       "      <td>3.181</td>\n",
       "      <td>16.374</td>\n",
       "      <td>Vietnam</td>\n",
       "    </tr>\n",
       "    <tr>\n",
       "      <th>145</th>\n",
       "      <td>3.368</td>\n",
       "      <td>17.165</td>\n",
       "      <td>3.989</td>\n",
       "      <td>2.639</td>\n",
       "      <td>-0.892</td>\n",
       "      <td>3.043</td>\n",
       "      <td>15.039</td>\n",
       "      <td>Yemen</td>\n",
       "    </tr>\n",
       "    <tr>\n",
       "      <th>146</th>\n",
       "      <td>0.114</td>\n",
       "      <td>13.863</td>\n",
       "      <td>3.807</td>\n",
       "      <td>3.434</td>\n",
       "      <td>0.077</td>\n",
       "      <td>3.043</td>\n",
       "      <td>15.039</td>\n",
       "      <td>Yibuti</td>\n",
       "    </tr>\n",
       "    <tr>\n",
       "      <th>147</th>\n",
       "      <td>0.793</td>\n",
       "      <td>16.669</td>\n",
       "      <td>3.135</td>\n",
       "      <td>3.555</td>\n",
       "      <td>-1.238</td>\n",
       "      <td>3.072</td>\n",
       "      <td>13.895</td>\n",
       "      <td>Zambia</td>\n",
       "    </tr>\n",
       "    <tr>\n",
       "      <th>148</th>\n",
       "      <td>1.051</td>\n",
       "      <td>16.485</td>\n",
       "      <td>3.611</td>\n",
       "      <td>3.091</td>\n",
       "      <td>-0.261</td>\n",
       "      <td>3.046</td>\n",
       "      <td>14.701</td>\n",
       "      <td>Zimbabue</td>\n",
       "    </tr>\n",
       "  </tbody>\n",
       "</table>\n",
       "<p>149 rows × 8 columns</p>\n",
       "</div>"
      ],
      "text/plain": [
       "     Tasa de Letalidad  Población  Densidad  Índice Corrup.  Emis.CO2 p.cap.  \\\n",
       "0                1.308     17.431     4.043           2.773           -1.238   \n",
       "1                0.996     14.861     4.595           3.584            0.495   \n",
       "2                1.017     18.236     5.451           4.382            2.214   \n",
       "3                1.167     17.243     3.219           2.944           -0.020   \n",
       "4                0.408     17.333     2.773           3.892            2.925   \n",
       "..                 ...        ...       ...             ...              ...   \n",
       "144              1.136     18.375     5.663           3.497            1.033   \n",
       "145              3.368     17.165     3.989           2.639           -0.892   \n",
       "146              0.114     13.863     3.807           3.434            0.077   \n",
       "147              0.793     16.669     3.135           3.555           -1.238   \n",
       "148              1.051     16.485     3.611           3.091           -0.261   \n",
       "\n",
       "     Annual_temp  IT n. of arrivals 2017            País  \n",
       "0          2.559                  15.039      Afganistan  \n",
       "1          2.422                  15.351         Albania  \n",
       "2          2.141                  17.439        Alemania  \n",
       "3          3.069                  12.472          Angola  \n",
       "4          3.205                  16.595  Arabia Saudita  \n",
       "..           ...                     ...             ...  \n",
       "144        3.181                  16.374         Vietnam  \n",
       "145        3.043                  15.039           Yemen  \n",
       "146        3.043                  15.039          Yibuti  \n",
       "147        3.072                  13.895          Zambia  \n",
       "148        3.046                  14.701        Zimbabue  \n",
       "\n",
       "[149 rows x 8 columns]"
      ]
     },
     "execution_count": 49,
     "metadata": {},
     "output_type": "execute_result"
    }
   ],
   "source": [
    "dataNumericaConMejorCorrelacion"
   ]
  },
  {
   "cell_type": "code",
   "execution_count": 50,
   "metadata": {},
   "outputs": [],
   "source": [
    "dataNumericaConMejorCorrelacion = dataNumericaConMejorCorrelacion.dropna()"
   ]
  },
  {
   "cell_type": "code",
   "execution_count": null,
   "metadata": {},
   "outputs": [],
   "source": []
  },
  {
   "cell_type": "markdown",
   "metadata": {},
   "source": [
    "# Multicolinealidad"
   ]
  },
  {
   "cell_type": "markdown",
   "metadata": {},
   "source": [
    "#### Voy a analizar la multicolineadlidad entre las variables independientes, y descartar alguna si es necesario."
   ]
  },
  {
   "cell_type": "code",
   "execution_count": 51,
   "metadata": {},
   "outputs": [
    {
     "data": {
      "text/plain": [
       "array(['Tasa de Letalidad', 'Población', 'Densidad', 'Índice Corrup.',\n",
       "       'Emis.CO2 p.cap.', 'Annual_temp', 'IT n. of arrivals 2017', 'País'],\n",
       "      dtype=object)"
      ]
     },
     "execution_count": 51,
     "metadata": {},
     "output_type": "execute_result"
    }
   ],
   "source": [
    "dataNumericaConMejorCorrelacion.columns.values"
   ]
  },
  {
   "cell_type": "code",
   "execution_count": 52,
   "metadata": {},
   "outputs": [],
   "source": [
    "from statsmodels.stats.outliers_influence import variance_inflation_factor\n",
    "\n",
    "variables_multicolinealidad = dataNumericaConMejorCorrelacion[['Población', 'Densidad', 'Índice Corrup.',\n",
    "       'Emis.CO2 p.cap.', 'Annual_temp', 'IT n. of arrivals 2017']]"
   ]
  },
  {
   "cell_type": "code",
   "execution_count": 53,
   "metadata": {},
   "outputs": [],
   "source": [
    "vif = pd.DataFrame()\n",
    "vif[\"VIF\"] = [variance_inflation_factor(variables_multicolinealidad.values, i) for i in range(variables_multicolinealidad.shape[1])]\n",
    "vif[\"Features\"] = variables_multicolinealidad.columns"
   ]
  },
  {
   "cell_type": "code",
   "execution_count": 54,
   "metadata": {},
   "outputs": [
    {
     "data": {
      "text/html": [
       "<div>\n",
       "<style scoped>\n",
       "    .dataframe tbody tr th:only-of-type {\n",
       "        vertical-align: middle;\n",
       "    }\n",
       "\n",
       "    .dataframe tbody tr th {\n",
       "        vertical-align: top;\n",
       "    }\n",
       "\n",
       "    .dataframe thead th {\n",
       "        text-align: right;\n",
       "    }\n",
       "</style>\n",
       "<table border=\"1\" class=\"dataframe\">\n",
       "  <thead>\n",
       "    <tr style=\"text-align: right;\">\n",
       "      <th></th>\n",
       "      <th>VIF</th>\n",
       "      <th>Features</th>\n",
       "    </tr>\n",
       "  </thead>\n",
       "  <tbody>\n",
       "    <tr>\n",
       "      <th>0</th>\n",
       "      <td>153.795</td>\n",
       "      <td>Población</td>\n",
       "    </tr>\n",
       "    <tr>\n",
       "      <th>1</th>\n",
       "      <td>13.430</td>\n",
       "      <td>Densidad</td>\n",
       "    </tr>\n",
       "    <tr>\n",
       "      <th>2</th>\n",
       "      <td>77.255</td>\n",
       "      <td>Índice Corrup.</td>\n",
       "    </tr>\n",
       "    <tr>\n",
       "      <th>3</th>\n",
       "      <td>1.964</td>\n",
       "      <td>Emis.CO2 p.cap.</td>\n",
       "    </tr>\n",
       "    <tr>\n",
       "      <th>4</th>\n",
       "      <td>25.000</td>\n",
       "      <td>Annual_temp</td>\n",
       "    </tr>\n",
       "    <tr>\n",
       "      <th>5</th>\n",
       "      <td>174.666</td>\n",
       "      <td>IT n. of arrivals 2017</td>\n",
       "    </tr>\n",
       "  </tbody>\n",
       "</table>\n",
       "</div>"
      ],
      "text/plain": [
       "      VIF                Features\n",
       "0 153.795               Población\n",
       "1  13.430                Densidad\n",
       "2  77.255          Índice Corrup.\n",
       "3   1.964         Emis.CO2 p.cap.\n",
       "4  25.000             Annual_temp\n",
       "5 174.666  IT n. of arrivals 2017"
      ]
     },
     "execution_count": 54,
     "metadata": {},
     "output_type": "execute_result"
    }
   ],
   "source": [
    "vif"
   ]
  },
  {
   "cell_type": "markdown",
   "metadata": {},
   "source": [
    "#### Observo que 'IT n. of arrivals 2017' tiene el VIF mas alto así que decido descartarla para el modelo. Esto hará que las VIF de las otras variables también bajen."
   ]
  },
  {
   "cell_type": "code",
   "execution_count": 55,
   "metadata": {},
   "outputs": [],
   "source": [
    "data_no_multicollinearity = dataNumericaConMejorCorrelacion.drop(['IT n. of arrivals 2017'],axis=1)"
   ]
  },
  {
   "cell_type": "markdown",
   "metadata": {},
   "source": [
    "# Lidiando con los Outliers"
   ]
  },
  {
   "cell_type": "code",
   "execution_count": 56,
   "metadata": {},
   "outputs": [],
   "source": [
    "data_without_outliers = data_no_multicollinearity.copy()"
   ]
  },
  {
   "cell_type": "code",
   "execution_count": 57,
   "metadata": {},
   "outputs": [
    {
     "data": {
      "text/html": [
       "<div>\n",
       "<style scoped>\n",
       "    .dataframe tbody tr th:only-of-type {\n",
       "        vertical-align: middle;\n",
       "    }\n",
       "\n",
       "    .dataframe tbody tr th {\n",
       "        vertical-align: top;\n",
       "    }\n",
       "\n",
       "    .dataframe thead th {\n",
       "        text-align: right;\n",
       "    }\n",
       "</style>\n",
       "<table border=\"1\" class=\"dataframe\">\n",
       "  <thead>\n",
       "    <tr style=\"text-align: right;\">\n",
       "      <th></th>\n",
       "      <th>Tasa de Letalidad</th>\n",
       "      <th>Población</th>\n",
       "      <th>Densidad</th>\n",
       "      <th>Índice Corrup.</th>\n",
       "      <th>Emis.CO2 p.cap.</th>\n",
       "      <th>Annual_temp</th>\n",
       "      <th>País</th>\n",
       "    </tr>\n",
       "  </thead>\n",
       "  <tbody>\n",
       "    <tr>\n",
       "      <th>0</th>\n",
       "      <td>1.308</td>\n",
       "      <td>17.431</td>\n",
       "      <td>4.043</td>\n",
       "      <td>2.773</td>\n",
       "      <td>-1.238</td>\n",
       "      <td>2.559</td>\n",
       "      <td>Afganistan</td>\n",
       "    </tr>\n",
       "    <tr>\n",
       "      <th>1</th>\n",
       "      <td>0.996</td>\n",
       "      <td>14.861</td>\n",
       "      <td>4.595</td>\n",
       "      <td>3.584</td>\n",
       "      <td>0.495</td>\n",
       "      <td>2.422</td>\n",
       "      <td>Albania</td>\n",
       "    </tr>\n",
       "    <tr>\n",
       "      <th>2</th>\n",
       "      <td>1.017</td>\n",
       "      <td>18.236</td>\n",
       "      <td>5.451</td>\n",
       "      <td>4.382</td>\n",
       "      <td>2.214</td>\n",
       "      <td>2.141</td>\n",
       "      <td>Alemania</td>\n",
       "    </tr>\n",
       "    <tr>\n",
       "      <th>3</th>\n",
       "      <td>1.167</td>\n",
       "      <td>17.243</td>\n",
       "      <td>3.219</td>\n",
       "      <td>2.944</td>\n",
       "      <td>-0.020</td>\n",
       "      <td>3.069</td>\n",
       "      <td>Angola</td>\n",
       "    </tr>\n",
       "    <tr>\n",
       "      <th>4</th>\n",
       "      <td>0.408</td>\n",
       "      <td>17.333</td>\n",
       "      <td>2.773</td>\n",
       "      <td>3.892</td>\n",
       "      <td>2.925</td>\n",
       "      <td>3.205</td>\n",
       "      <td>Arabia Saudita</td>\n",
       "    </tr>\n",
       "    <tr>\n",
       "      <th>...</th>\n",
       "      <td>...</td>\n",
       "      <td>...</td>\n",
       "      <td>...</td>\n",
       "      <td>...</td>\n",
       "      <td>...</td>\n",
       "      <td>...</td>\n",
       "      <td>...</td>\n",
       "    </tr>\n",
       "    <tr>\n",
       "      <th>144</th>\n",
       "      <td>1.136</td>\n",
       "      <td>18.375</td>\n",
       "      <td>5.663</td>\n",
       "      <td>3.497</td>\n",
       "      <td>1.033</td>\n",
       "      <td>3.181</td>\n",
       "      <td>Vietnam</td>\n",
       "    </tr>\n",
       "    <tr>\n",
       "      <th>145</th>\n",
       "      <td>3.368</td>\n",
       "      <td>17.165</td>\n",
       "      <td>3.989</td>\n",
       "      <td>2.639</td>\n",
       "      <td>-0.892</td>\n",
       "      <td>3.043</td>\n",
       "      <td>Yemen</td>\n",
       "    </tr>\n",
       "    <tr>\n",
       "      <th>146</th>\n",
       "      <td>0.114</td>\n",
       "      <td>13.863</td>\n",
       "      <td>3.807</td>\n",
       "      <td>3.434</td>\n",
       "      <td>0.077</td>\n",
       "      <td>3.043</td>\n",
       "      <td>Yibuti</td>\n",
       "    </tr>\n",
       "    <tr>\n",
       "      <th>147</th>\n",
       "      <td>0.793</td>\n",
       "      <td>16.669</td>\n",
       "      <td>3.135</td>\n",
       "      <td>3.555</td>\n",
       "      <td>-1.238</td>\n",
       "      <td>3.072</td>\n",
       "      <td>Zambia</td>\n",
       "    </tr>\n",
       "    <tr>\n",
       "      <th>148</th>\n",
       "      <td>1.051</td>\n",
       "      <td>16.485</td>\n",
       "      <td>3.611</td>\n",
       "      <td>3.091</td>\n",
       "      <td>-0.261</td>\n",
       "      <td>3.046</td>\n",
       "      <td>Zimbabue</td>\n",
       "    </tr>\n",
       "  </tbody>\n",
       "</table>\n",
       "<p>147 rows × 7 columns</p>\n",
       "</div>"
      ],
      "text/plain": [
       "     Tasa de Letalidad  Población  Densidad  Índice Corrup.  Emis.CO2 p.cap.  \\\n",
       "0                1.308     17.431     4.043           2.773           -1.238   \n",
       "1                0.996     14.861     4.595           3.584            0.495   \n",
       "2                1.017     18.236     5.451           4.382            2.214   \n",
       "3                1.167     17.243     3.219           2.944           -0.020   \n",
       "4                0.408     17.333     2.773           3.892            2.925   \n",
       "..                 ...        ...       ...             ...              ...   \n",
       "144              1.136     18.375     5.663           3.497            1.033   \n",
       "145              3.368     17.165     3.989           2.639           -0.892   \n",
       "146              0.114     13.863     3.807           3.434            0.077   \n",
       "147              0.793     16.669     3.135           3.555           -1.238   \n",
       "148              1.051     16.485     3.611           3.091           -0.261   \n",
       "\n",
       "     Annual_temp            País  \n",
       "0          2.559      Afganistan  \n",
       "1          2.422         Albania  \n",
       "2          2.141        Alemania  \n",
       "3          3.069          Angola  \n",
       "4          3.205  Arabia Saudita  \n",
       "..           ...             ...  \n",
       "144        3.181         Vietnam  \n",
       "145        3.043           Yemen  \n",
       "146        3.043          Yibuti  \n",
       "147        3.072          Zambia  \n",
       "148        3.046        Zimbabue  \n",
       "\n",
       "[147 rows x 7 columns]"
      ]
     },
     "execution_count": 57,
     "metadata": {},
     "output_type": "execute_result"
    }
   ],
   "source": [
    "data_without_outliers"
   ]
  },
  {
   "cell_type": "code",
   "execution_count": 58,
   "metadata": {},
   "outputs": [
    {
     "data": {
      "image/png": "[encoded data removed]",
      "text/plain": [
       "<Figure size 1440x792 with 5 Axes>"
      ]
     },
     "metadata": {},
     "output_type": "display_data"
    }
   ],
   "source": [
    "fig = plt.figure(figsize = (20,11))\n",
    "for i in range(1,6):\n",
    "    df_boxplot = plt.subplot(2,4,i, title = data_without_outliers.columns[i])\n",
    "    sns.boxplot(data_without_outliers[data_without_outliers.columns[i]])"
   ]
  },
  {
   "cell_type": "markdown",
   "metadata": {},
   "source": [
    "#### La variable Annual_temp es la que mas outliers presenta, de momento me ocuparé de estos, mientras que en 'Densidad' e 'Indice corrup.' los dejaré de momento."
   ]
  },
  {
   "cell_type": "code",
   "execution_count": 59,
   "metadata": {},
   "outputs": [
    {
     "name": "stdout",
     "output_type": "stream",
     "text": [
      "Q1 25 percentile of the given data is,  2.4625923602525455\n",
      "Q1 50 percentile of the given data is,  3.0433326843474773\n",
      "Q1 75 percentile of the given data is,  3.197531165925893\n",
      "Interquartile range is 0.7349388056733477\n"
     ]
    }
   ],
   "source": [
    "Q1 = np.percentile(data_without_outliers['Annual_temp'], 25, interpolation = 'midpoint')  \n",
    "Q2 = np.percentile(data_without_outliers['Annual_temp'], 50, interpolation = 'midpoint')  \n",
    "Q3 = np.percentile(data_without_outliers['Annual_temp'], 75, interpolation = 'midpoint')  \n",
    "  \n",
    "print('Q1 25 percentile of the given data is, ', Q1) \n",
    "print('Q1 50 percentile of the given data is, ', Q2) \n",
    "print('Q1 75 percentile of the given data is, ', Q3) \n",
    "  \n",
    "IQR = Q3 - Q1  \n",
    "print('Interquartile range is', IQR) "
   ]
  },
  {
   "cell_type": "code",
   "execution_count": 60,
   "metadata": {},
   "outputs": [
    {
     "name": "stdout",
     "output_type": "stream",
     "text": [
      "low_limit is 1.360184151742524\n",
      "up_limit is 4.2999393744359145\n"
     ]
    }
   ],
   "source": [
    "low_lim = Q1 - 1.5 * IQR \n",
    "up_lim = Q3 + 1.5 * IQR \n",
    "print('low_limit is', low_lim) \n",
    "print('up_limit is', up_lim) "
   ]
  },
  {
   "cell_type": "code",
   "execution_count": 61,
   "metadata": {},
   "outputs": [],
   "source": [
    "data_without_outliers['Annual_temp'] = np.where(data_without_outliers['Annual_temp'] < 1.36, 3.04, data_without_outliers['Annual_temp'])\n"
   ]
  },
  {
   "cell_type": "code",
   "execution_count": 62,
   "metadata": {},
   "outputs": [
    {
     "data": {
      "text/plain": [
       "<matplotlib.axes._subplots.AxesSubplot at 0x2099c773208>"
      ]
     },
     "execution_count": 62,
     "metadata": {},
     "output_type": "execute_result"
    },
    {
     "data": {
      "image/png": "[encoded data removed]",
      "text/plain": [
       "<Figure size 720x576 with 1 Axes>"
      ]
     },
     "metadata": {},
     "output_type": "display_data"
    }
   ],
   "source": [
    "fig = plt.figure(figsize = (10,8))\n",
    "sns.boxplot(data = data_without_outliers['Annual_temp'])"
   ]
  },
  {
   "cell_type": "markdown",
   "metadata": {},
   "source": [
    "#### Solo ha quedado un outlier muy cercano al 25 percentil. Lo que hice fue remplazar los valores que estaban por debajo de 1.36 por la mediana de 'Temp_ann'"
   ]
  },
  {
   "cell_type": "markdown",
   "metadata": {},
   "source": [
    "# Variables Dummies"
   ]
  },
  {
   "cell_type": "markdown",
   "metadata": {},
   "source": [
    "### Ahora me voy a ocupar de las variables categóricas"
   ]
  },
  {
   "cell_type": "code",
   "execution_count": 63,
   "metadata": {},
   "outputs": [],
   "source": [
    "data_with_dummies = pd.get_dummies(data_without_nans_arrivals_temp['Continente'], drop_first=True)"
   ]
  },
  {
   "cell_type": "code",
   "execution_count": 64,
   "metadata": {},
   "outputs": [],
   "source": [
    "data_with_dummies['País'] = data_without_nans_arrivals_temp['País']"
   ]
  },
  {
   "cell_type": "code",
   "execution_count": 65,
   "metadata": {},
   "outputs": [
    {
     "data": {
      "text/html": [
       "<div>\n",
       "<style scoped>\n",
       "    .dataframe tbody tr th:only-of-type {\n",
       "        vertical-align: middle;\n",
       "    }\n",
       "\n",
       "    .dataframe tbody tr th {\n",
       "        vertical-align: top;\n",
       "    }\n",
       "\n",
       "    .dataframe thead th {\n",
       "        text-align: right;\n",
       "    }\n",
       "</style>\n",
       "<table border=\"1\" class=\"dataframe\">\n",
       "  <thead>\n",
       "    <tr style=\"text-align: right;\">\n",
       "      <th></th>\n",
       "      <th>AMERICA</th>\n",
       "      <th>ASIA</th>\n",
       "      <th>EUROPA</th>\n",
       "      <th>OCEANIA</th>\n",
       "      <th>País</th>\n",
       "    </tr>\n",
       "  </thead>\n",
       "  <tbody>\n",
       "    <tr>\n",
       "      <th>0</th>\n",
       "      <td>0</td>\n",
       "      <td>1</td>\n",
       "      <td>0</td>\n",
       "      <td>0</td>\n",
       "      <td>Afganistan</td>\n",
       "    </tr>\n",
       "    <tr>\n",
       "      <th>1</th>\n",
       "      <td>0</td>\n",
       "      <td>0</td>\n",
       "      <td>1</td>\n",
       "      <td>0</td>\n",
       "      <td>Albania</td>\n",
       "    </tr>\n",
       "    <tr>\n",
       "      <th>2</th>\n",
       "      <td>0</td>\n",
       "      <td>0</td>\n",
       "      <td>1</td>\n",
       "      <td>0</td>\n",
       "      <td>Alemania</td>\n",
       "    </tr>\n",
       "    <tr>\n",
       "      <th>3</th>\n",
       "      <td>0</td>\n",
       "      <td>0</td>\n",
       "      <td>0</td>\n",
       "      <td>0</td>\n",
       "      <td>Angola</td>\n",
       "    </tr>\n",
       "    <tr>\n",
       "      <th>4</th>\n",
       "      <td>0</td>\n",
       "      <td>1</td>\n",
       "      <td>0</td>\n",
       "      <td>0</td>\n",
       "      <td>Arabia Saudita</td>\n",
       "    </tr>\n",
       "  </tbody>\n",
       "</table>\n",
       "</div>"
      ],
      "text/plain": [
       "   AMERICA  ASIA  EUROPA  OCEANIA            País\n",
       "0        0     1       0        0      Afganistan\n",
       "1        0     0       1        0         Albania\n",
       "2        0     0       1        0        Alemania\n",
       "3        0     0       0        0          Angola\n",
       "4        0     1       0        0  Arabia Saudita"
      ]
     },
     "execution_count": 65,
     "metadata": {},
     "output_type": "execute_result"
    }
   ],
   "source": [
    "data_with_dummies.head()"
   ]
  },
  {
   "cell_type": "markdown",
   "metadata": {},
   "source": [
    "# Reordenando el dataset"
   ]
  },
  {
   "cell_type": "code",
   "execution_count": 66,
   "metadata": {},
   "outputs": [],
   "source": [
    "data_cleaned = pd.merge(data_without_outliers, data_with_dummies, how='left', left_on='País', right_on='País')\n",
    "data_cleaned = data_cleaned.drop(['País'],axis=1)"
   ]
  },
  {
   "cell_type": "code",
   "execution_count": 67,
   "metadata": {},
   "outputs": [
    {
     "data": {
      "text/html": [
       "<div>\n",
       "<style scoped>\n",
       "    .dataframe tbody tr th:only-of-type {\n",
       "        vertical-align: middle;\n",
       "    }\n",
       "\n",
       "    .dataframe tbody tr th {\n",
       "        vertical-align: top;\n",
       "    }\n",
       "\n",
       "    .dataframe thead th {\n",
       "        text-align: right;\n",
       "    }\n",
       "</style>\n",
       "<table border=\"1\" class=\"dataframe\">\n",
       "  <thead>\n",
       "    <tr style=\"text-align: right;\">\n",
       "      <th></th>\n",
       "      <th>Tasa de Letalidad</th>\n",
       "      <th>Población</th>\n",
       "      <th>Densidad</th>\n",
       "      <th>Índice Corrup.</th>\n",
       "      <th>Emis.CO2 p.cap.</th>\n",
       "      <th>Annual_temp</th>\n",
       "      <th>AMERICA</th>\n",
       "      <th>ASIA</th>\n",
       "      <th>EUROPA</th>\n",
       "      <th>OCEANIA</th>\n",
       "    </tr>\n",
       "  </thead>\n",
       "  <tbody>\n",
       "    <tr>\n",
       "      <th>0</th>\n",
       "      <td>1.308</td>\n",
       "      <td>17.431</td>\n",
       "      <td>4.043</td>\n",
       "      <td>2.773</td>\n",
       "      <td>-1.238</td>\n",
       "      <td>2.559</td>\n",
       "      <td>0</td>\n",
       "      <td>1</td>\n",
       "      <td>0</td>\n",
       "      <td>0</td>\n",
       "    </tr>\n",
       "    <tr>\n",
       "      <th>1</th>\n",
       "      <td>0.996</td>\n",
       "      <td>14.861</td>\n",
       "      <td>4.595</td>\n",
       "      <td>3.584</td>\n",
       "      <td>0.495</td>\n",
       "      <td>2.422</td>\n",
       "      <td>0</td>\n",
       "      <td>0</td>\n",
       "      <td>1</td>\n",
       "      <td>0</td>\n",
       "    </tr>\n",
       "    <tr>\n",
       "      <th>2</th>\n",
       "      <td>1.017</td>\n",
       "      <td>18.236</td>\n",
       "      <td>5.451</td>\n",
       "      <td>4.382</td>\n",
       "      <td>2.214</td>\n",
       "      <td>2.141</td>\n",
       "      <td>0</td>\n",
       "      <td>0</td>\n",
       "      <td>1</td>\n",
       "      <td>0</td>\n",
       "    </tr>\n",
       "    <tr>\n",
       "      <th>3</th>\n",
       "      <td>1.167</td>\n",
       "      <td>17.243</td>\n",
       "      <td>3.219</td>\n",
       "      <td>2.944</td>\n",
       "      <td>-0.020</td>\n",
       "      <td>3.069</td>\n",
       "      <td>0</td>\n",
       "      <td>0</td>\n",
       "      <td>0</td>\n",
       "      <td>0</td>\n",
       "    </tr>\n",
       "    <tr>\n",
       "      <th>4</th>\n",
       "      <td>0.408</td>\n",
       "      <td>17.333</td>\n",
       "      <td>2.773</td>\n",
       "      <td>3.892</td>\n",
       "      <td>2.925</td>\n",
       "      <td>3.205</td>\n",
       "      <td>0</td>\n",
       "      <td>1</td>\n",
       "      <td>0</td>\n",
       "      <td>0</td>\n",
       "    </tr>\n",
       "    <tr>\n",
       "      <th>...</th>\n",
       "      <td>...</td>\n",
       "      <td>...</td>\n",
       "      <td>...</td>\n",
       "      <td>...</td>\n",
       "      <td>...</td>\n",
       "      <td>...</td>\n",
       "      <td>...</td>\n",
       "      <td>...</td>\n",
       "      <td>...</td>\n",
       "      <td>...</td>\n",
       "    </tr>\n",
       "    <tr>\n",
       "      <th>142</th>\n",
       "      <td>1.136</td>\n",
       "      <td>18.375</td>\n",
       "      <td>5.663</td>\n",
       "      <td>3.497</td>\n",
       "      <td>1.033</td>\n",
       "      <td>3.181</td>\n",
       "      <td>0</td>\n",
       "      <td>1</td>\n",
       "      <td>0</td>\n",
       "      <td>0</td>\n",
       "    </tr>\n",
       "    <tr>\n",
       "      <th>143</th>\n",
       "      <td>3.368</td>\n",
       "      <td>17.165</td>\n",
       "      <td>3.989</td>\n",
       "      <td>2.639</td>\n",
       "      <td>-0.892</td>\n",
       "      <td>3.043</td>\n",
       "      <td>0</td>\n",
       "      <td>1</td>\n",
       "      <td>0</td>\n",
       "      <td>0</td>\n",
       "    </tr>\n",
       "    <tr>\n",
       "      <th>144</th>\n",
       "      <td>0.114</td>\n",
       "      <td>13.863</td>\n",
       "      <td>3.807</td>\n",
       "      <td>3.434</td>\n",
       "      <td>0.077</td>\n",
       "      <td>3.043</td>\n",
       "      <td>0</td>\n",
       "      <td>0</td>\n",
       "      <td>0</td>\n",
       "      <td>0</td>\n",
       "    </tr>\n",
       "    <tr>\n",
       "      <th>145</th>\n",
       "      <td>0.793</td>\n",
       "      <td>16.669</td>\n",
       "      <td>3.135</td>\n",
       "      <td>3.555</td>\n",
       "      <td>-1.238</td>\n",
       "      <td>3.072</td>\n",
       "      <td>0</td>\n",
       "      <td>0</td>\n",
       "      <td>0</td>\n",
       "      <td>0</td>\n",
       "    </tr>\n",
       "    <tr>\n",
       "      <th>146</th>\n",
       "      <td>1.051</td>\n",
       "      <td>16.485</td>\n",
       "      <td>3.611</td>\n",
       "      <td>3.091</td>\n",
       "      <td>-0.261</td>\n",
       "      <td>3.046</td>\n",
       "      <td>0</td>\n",
       "      <td>0</td>\n",
       "      <td>0</td>\n",
       "      <td>0</td>\n",
       "    </tr>\n",
       "  </tbody>\n",
       "</table>\n",
       "<p>147 rows × 10 columns</p>\n",
       "</div>"
      ],
      "text/plain": [
       "     Tasa de Letalidad  Población  Densidad  Índice Corrup.  Emis.CO2 p.cap.  \\\n",
       "0                1.308     17.431     4.043           2.773           -1.238   \n",
       "1                0.996     14.861     4.595           3.584            0.495   \n",
       "2                1.017     18.236     5.451           4.382            2.214   \n",
       "3                1.167     17.243     3.219           2.944           -0.020   \n",
       "4                0.408     17.333     2.773           3.892            2.925   \n",
       "..                 ...        ...       ...             ...              ...   \n",
       "142              1.136     18.375     5.663           3.497            1.033   \n",
       "143              3.368     17.165     3.989           2.639           -0.892   \n",
       "144              0.114     13.863     3.807           3.434            0.077   \n",
       "145              0.793     16.669     3.135           3.555           -1.238   \n",
       "146              1.051     16.485     3.611           3.091           -0.261   \n",
       "\n",
       "     Annual_temp  AMERICA  ASIA  EUROPA  OCEANIA  \n",
       "0          2.559        0     1       0        0  \n",
       "1          2.422        0     0       1        0  \n",
       "2          2.141        0     0       1        0  \n",
       "3          3.069        0     0       0        0  \n",
       "4          3.205        0     1       0        0  \n",
       "..           ...      ...   ...     ...      ...  \n",
       "142        3.181        0     1       0        0  \n",
       "143        3.043        0     1       0        0  \n",
       "144        3.043        0     0       0        0  \n",
       "145        3.072        0     0       0        0  \n",
       "146        3.046        0     0       0        0  \n",
       "\n",
       "[147 rows x 10 columns]"
      ]
     },
     "execution_count": 67,
     "metadata": {},
     "output_type": "execute_result"
    }
   ],
   "source": [
    "data_preprocessed = data_cleaned.copy()\n",
    "data_preprocessed"
   ]
  },
  {
   "cell_type": "code",
   "execution_count": 68,
   "metadata": {},
   "outputs": [],
   "source": [
    "data_preprocessed.to_excel(\"data_preprocessed.xlsx\", sheet_name='data_preprocessed', index=False)   "
   ]
  },
  {
   "cell_type": "code",
   "execution_count": null,
   "metadata": {},
   "outputs": [],
   "source": []
  },
  {
   "cell_type": "code",
   "execution_count": null,
   "metadata": {},
   "outputs": [],
   "source": []
  },
  {
   "cell_type": "code",
   "execution_count": null,
   "metadata": {},
   "outputs": [],
   "source": []
  }
 ],
 "metadata": {
  "kernelspec": {
   "display_name": "Python 3",
   "language": "python",
   "name": "python3"
  },
  "language_info": {
   "codemirror_mode": {
    "name": "ipython",
    "version": 3
   },
   "file_extension": ".py",
   "mimetype": "text/x-python",
   "name": "python",
   "nbconvert_exporter": "python",
   "pygments_lexer": "ipython3",
   "version": "3.7.1"
  }
 },
 "nbformat": 4,
 "nbformat_minor": 4
}
